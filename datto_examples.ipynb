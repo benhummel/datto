{
 "cells": [
  {
   "cell_type": "code",
   "execution_count": 1,
   "metadata": {},
   "outputs": [
    {
     "name": "stdout",
     "output_type": "stream",
     "text": [
      "\u001b[38;5;2m✔ Download and installation successful\u001b[0m\n",
      "You can now load the model via spacy.load('en_core_web_sm')\n",
      "\u001b[38;5;2m✔ Linking successful\u001b[0m\n",
      "/Users/kristiewirth/.pyenv/versions/mlrecommendations/lib/python3.7/site-packages/en_core_web_sm\n",
      "-->\n",
      "/Users/kristiewirth/.pyenv/versions/mlrecommendations/lib/python3.7/site-packages/spacy/data/en\n",
      "You can now load the model via spacy.load('en')\n"
     ]
    }
   ],
   "source": [
    "import numpy as np\n",
    "import pandas as pd\n",
    "from IPython.core.display import HTML, display\n",
    "from sklearn.ensemble import BaggingClassifier\n",
    "from sklearn.feature_extraction.text import TfidfVectorizer\n",
    "from sklearn.linear_model import LogisticRegression\n",
    "from sklearn.metrics import accuracy_score, precision_score, recall_score\n",
    "from sklearn.model_selection import train_test_split\n",
    "from sklearn.pipeline import Pipeline\n",
    "\n",
    "import datto as dt"
   ]
  },
  {
   "cell_type": "markdown",
   "metadata": {},
   "source": [
    "## Data Connections"
   ]
  },
  {
   "cell_type": "code",
   "execution_count": 2,
   "metadata": {},
   "outputs": [],
   "source": [
    "dc = dt.DataConnections()"
   ]
  },
  {
   "cell_type": "code",
   "execution_count": 3,
   "metadata": {},
   "outputs": [],
   "source": [
    "conn = dc.setup_redshift_connection()"
   ]
  },
  {
   "cell_type": "code",
   "execution_count": 4,
   "metadata": {},
   "outputs": [],
   "source": [
    "df = dc.run_sql_redshift(conn, \"\"\"SELECT\n",
    "    customuser_id,\n",
    "    developer,\n",
    "    has_sso_at_signup,\n",
    "    days_between_signup_and_activation,\n",
    "    role_name,\n",
    "    org_name,\n",
    "    followed_apps_count\n",
    "FROM dim_user_all\n",
    "WHERE\n",
    "    (activation_date >= (TIMESTAMP '2020-01-01') AND (activation_date ) < (TIMESTAMP '2020-01-31'))\n",
    "    AND (NOT COALESCE(is_spam, FALSE)) \n",
    "    AND (NOT COALESCE(is_employee, FALSE))\n",
    "    AND current_version\"\"\")"
   ]
  },
  {
   "cell_type": "code",
   "execution_count": 5,
   "metadata": {
    "scrolled": true
   },
   "outputs": [
    {
     "data": {
      "text/html": [
       "<div>\n",
       "<style scoped>\n",
       "    .dataframe tbody tr th:only-of-type {\n",
       "        vertical-align: middle;\n",
       "    }\n",
       "\n",
       "    .dataframe tbody tr th {\n",
       "        vertical-align: top;\n",
       "    }\n",
       "\n",
       "    .dataframe thead th {\n",
       "        text-align: right;\n",
       "    }\n",
       "</style>\n",
       "<table border=\"1\" class=\"dataframe\">\n",
       "  <thead>\n",
       "    <tr style=\"text-align: right;\">\n",
       "      <th></th>\n",
       "      <th>customuser_id</th>\n",
       "      <th>developer</th>\n",
       "      <th>has_sso_at_signup</th>\n",
       "      <th>days_between_signup_and_activation</th>\n",
       "      <th>role_name</th>\n",
       "      <th>org_name</th>\n",
       "      <th>followed_apps_count</th>\n",
       "    </tr>\n",
       "  </thead>\n",
       "  <tbody>\n",
       "    <tr>\n",
       "      <th>0</th>\n",
       "      <td>10768</td>\n",
       "      <td>False</td>\n",
       "      <td>False</td>\n",
       "      <td>2722</td>\n",
       "      <td>None</td>\n",
       "      <td>None</td>\n",
       "      <td>11.0</td>\n",
       "    </tr>\n",
       "    <tr>\n",
       "      <th>1</th>\n",
       "      <td>37548</td>\n",
       "      <td>False</td>\n",
       "      <td>False</td>\n",
       "      <td>2569</td>\n",
       "      <td>None</td>\n",
       "      <td>None</td>\n",
       "      <td>12.0</td>\n",
       "    </tr>\n",
       "    <tr>\n",
       "      <th>2</th>\n",
       "      <td>42565</td>\n",
       "      <td>False</td>\n",
       "      <td>False</td>\n",
       "      <td>2539</td>\n",
       "      <td>None</td>\n",
       "      <td>None</td>\n",
       "      <td>17.0</td>\n",
       "    </tr>\n",
       "    <tr>\n",
       "      <th>3</th>\n",
       "      <td>42854</td>\n",
       "      <td>True</td>\n",
       "      <td>False</td>\n",
       "      <td>2552</td>\n",
       "      <td>None</td>\n",
       "      <td>None</td>\n",
       "      <td>8.0</td>\n",
       "    </tr>\n",
       "    <tr>\n",
       "      <th>4</th>\n",
       "      <td>55249</td>\n",
       "      <td>False</td>\n",
       "      <td>False</td>\n",
       "      <td>2520</td>\n",
       "      <td>None</td>\n",
       "      <td>None</td>\n",
       "      <td>14.0</td>\n",
       "    </tr>\n",
       "    <tr>\n",
       "      <th>...</th>\n",
       "      <td>...</td>\n",
       "      <td>...</td>\n",
       "      <td>...</td>\n",
       "      <td>...</td>\n",
       "      <td>...</td>\n",
       "      <td>...</td>\n",
       "      <td>...</td>\n",
       "    </tr>\n",
       "    <tr>\n",
       "      <th>41775</th>\n",
       "      <td>6602264</td>\n",
       "      <td>False</td>\n",
       "      <td>True</td>\n",
       "      <td>-1</td>\n",
       "      <td>None</td>\n",
       "      <td>None</td>\n",
       "      <td>10.0</td>\n",
       "    </tr>\n",
       "    <tr>\n",
       "      <th>41776</th>\n",
       "      <td>6602646</td>\n",
       "      <td>False</td>\n",
       "      <td>False</td>\n",
       "      <td>-1</td>\n",
       "      <td>None</td>\n",
       "      <td>None</td>\n",
       "      <td>2.0</td>\n",
       "    </tr>\n",
       "    <tr>\n",
       "      <th>41777</th>\n",
       "      <td>6603480</td>\n",
       "      <td>False</td>\n",
       "      <td>True</td>\n",
       "      <td>-1</td>\n",
       "      <td>Real Estate Agent</td>\n",
       "      <td>LEGF Constructora</td>\n",
       "      <td>9.0</td>\n",
       "    </tr>\n",
       "    <tr>\n",
       "      <th>41778</th>\n",
       "      <td>6603857</td>\n",
       "      <td>False</td>\n",
       "      <td>False</td>\n",
       "      <td>-1</td>\n",
       "      <td>Other</td>\n",
       "      <td>indonesia</td>\n",
       "      <td>1.0</td>\n",
       "    </tr>\n",
       "    <tr>\n",
       "      <th>41779</th>\n",
       "      <td>6603966</td>\n",
       "      <td>False</td>\n",
       "      <td>True</td>\n",
       "      <td>-1</td>\n",
       "      <td>None</td>\n",
       "      <td>None</td>\n",
       "      <td>11.0</td>\n",
       "    </tr>\n",
       "  </tbody>\n",
       "</table>\n",
       "<p>41780 rows × 7 columns</p>\n",
       "</div>"
      ],
      "text/plain": [
       "       customuser_id  developer  has_sso_at_signup  \\\n",
       "0              10768      False              False   \n",
       "1              37548      False              False   \n",
       "2              42565      False              False   \n",
       "3              42854       True              False   \n",
       "4              55249      False              False   \n",
       "...              ...        ...                ...   \n",
       "41775        6602264      False               True   \n",
       "41776        6602646      False              False   \n",
       "41777        6603480      False               True   \n",
       "41778        6603857      False              False   \n",
       "41779        6603966      False               True   \n",
       "\n",
       "       days_between_signup_and_activation          role_name  \\\n",
       "0                                    2722               None   \n",
       "1                                    2569               None   \n",
       "2                                    2539               None   \n",
       "3                                    2552               None   \n",
       "4                                    2520               None   \n",
       "...                                   ...                ...   \n",
       "41775                                  -1               None   \n",
       "41776                                  -1               None   \n",
       "41777                                  -1  Real Estate Agent   \n",
       "41778                                  -1              Other   \n",
       "41779                                  -1               None   \n",
       "\n",
       "                org_name  followed_apps_count  \n",
       "0                   None                 11.0  \n",
       "1                   None                 12.0  \n",
       "2                   None                 17.0  \n",
       "3                   None                  8.0  \n",
       "4                   None                 14.0  \n",
       "...                  ...                  ...  \n",
       "41775               None                 10.0  \n",
       "41776               None                  2.0  \n",
       "41777  LEGF Constructora                  9.0  \n",
       "41778          indonesia                  1.0  \n",
       "41779               None                 11.0  \n",
       "\n",
       "[41780 rows x 7 columns]"
      ]
     },
     "execution_count": 5,
     "metadata": {},
     "output_type": "execute_result"
    }
   ],
   "source": [
    "df"
   ]
  },
  {
   "cell_type": "markdown",
   "metadata": {},
   "source": [
    "**Can also save & load from S3!**\n",
    "\n",
    "save_to_s3(directory_path, object_to_save, object_name)\n",
    "    \n",
    "load_from_s3(directory_path, object_name)"
   ]
  },
  {
   "cell_type": "markdown",
   "metadata": {},
   "source": [
    "## Setup"
   ]
  },
  {
   "cell_type": "code",
   "execution_count": 6,
   "metadata": {},
   "outputs": [],
   "source": [
    "s = dt.Setup()"
   ]
  },
  {
   "cell_type": "code",
   "execution_count": 7,
   "metadata": {},
   "outputs": [
    {
     "data": {
      "text/plain": [
       "<RootLogger root (DEBUG)>"
      ]
     },
     "execution_count": 7,
     "metadata": {},
     "output_type": "execute_result"
    }
   ],
   "source": [
    "s.setup_logger()"
   ]
  },
  {
   "cell_type": "code",
   "execution_count": 8,
   "metadata": {},
   "outputs": [
    {
     "data": {
      "text/html": [
       "<div>\n",
       "<style scoped>\n",
       "    .dataframe tbody tr th:only-of-type {\n",
       "        vertical-align: middle;\n",
       "    }\n",
       "\n",
       "    .dataframe tbody tr th {\n",
       "        vertical-align: top;\n",
       "    }\n",
       "\n",
       "    .dataframe thead th {\n",
       "        text-align: right;\n",
       "    }\n",
       "</style>\n",
       "<table border=\"1\" class=\"dataframe\">\n",
       "  <thead>\n",
       "    <tr style=\"text-align: right;\">\n",
       "      <th></th>\n",
       "      <th>customuser_id</th>\n",
       "      <th>developer</th>\n",
       "      <th>has_sso_at_signup</th>\n",
       "      <th>days_between_signup_and_activation</th>\n",
       "      <th>role_name</th>\n",
       "      <th>org_name</th>\n",
       "      <th>followed_apps_count</th>\n",
       "    </tr>\n",
       "  </thead>\n",
       "  <tbody>\n",
       "    <tr>\n",
       "      <th>0</th>\n",
       "      <td>10768</td>\n",
       "      <td>False</td>\n",
       "      <td>False</td>\n",
       "      <td>2722</td>\n",
       "      <td>None</td>\n",
       "      <td>None</td>\n",
       "      <td>11.0</td>\n",
       "    </tr>\n",
       "    <tr>\n",
       "      <th>1</th>\n",
       "      <td>37548</td>\n",
       "      <td>False</td>\n",
       "      <td>False</td>\n",
       "      <td>2569</td>\n",
       "      <td>None</td>\n",
       "      <td>None</td>\n",
       "      <td>12.0</td>\n",
       "    </tr>\n",
       "    <tr>\n",
       "      <th>2</th>\n",
       "      <td>42565</td>\n",
       "      <td>False</td>\n",
       "      <td>False</td>\n",
       "      <td>2539</td>\n",
       "      <td>None</td>\n",
       "      <td>None</td>\n",
       "      <td>17.0</td>\n",
       "    </tr>\n",
       "    <tr>\n",
       "      <th>3</th>\n",
       "      <td>42854</td>\n",
       "      <td>True</td>\n",
       "      <td>False</td>\n",
       "      <td>2552</td>\n",
       "      <td>None</td>\n",
       "      <td>None</td>\n",
       "      <td>8.0</td>\n",
       "    </tr>\n",
       "    <tr>\n",
       "      <th>4</th>\n",
       "      <td>55249</td>\n",
       "      <td>False</td>\n",
       "      <td>False</td>\n",
       "      <td>2520</td>\n",
       "      <td>None</td>\n",
       "      <td>None</td>\n",
       "      <td>14.0</td>\n",
       "    </tr>\n",
       "    <tr>\n",
       "      <th>...</th>\n",
       "      <td>...</td>\n",
       "      <td>...</td>\n",
       "      <td>...</td>\n",
       "      <td>...</td>\n",
       "      <td>...</td>\n",
       "      <td>...</td>\n",
       "      <td>...</td>\n",
       "    </tr>\n",
       "    <tr>\n",
       "      <th>41775</th>\n",
       "      <td>6602264</td>\n",
       "      <td>False</td>\n",
       "      <td>True</td>\n",
       "      <td>-1</td>\n",
       "      <td>None</td>\n",
       "      <td>None</td>\n",
       "      <td>10.0</td>\n",
       "    </tr>\n",
       "    <tr>\n",
       "      <th>41776</th>\n",
       "      <td>6602646</td>\n",
       "      <td>False</td>\n",
       "      <td>False</td>\n",
       "      <td>-1</td>\n",
       "      <td>None</td>\n",
       "      <td>None</td>\n",
       "      <td>2.0</td>\n",
       "    </tr>\n",
       "    <tr>\n",
       "      <th>41777</th>\n",
       "      <td>6603480</td>\n",
       "      <td>False</td>\n",
       "      <td>True</td>\n",
       "      <td>-1</td>\n",
       "      <td>Real Estate Agent</td>\n",
       "      <td>LEGF Constructora</td>\n",
       "      <td>9.0</td>\n",
       "    </tr>\n",
       "    <tr>\n",
       "      <th>41778</th>\n",
       "      <td>6603857</td>\n",
       "      <td>False</td>\n",
       "      <td>False</td>\n",
       "      <td>-1</td>\n",
       "      <td>Other</td>\n",
       "      <td>indonesia</td>\n",
       "      <td>1.0</td>\n",
       "    </tr>\n",
       "    <tr>\n",
       "      <th>41779</th>\n",
       "      <td>6603966</td>\n",
       "      <td>False</td>\n",
       "      <td>True</td>\n",
       "      <td>-1</td>\n",
       "      <td>None</td>\n",
       "      <td>None</td>\n",
       "      <td>11.0</td>\n",
       "    </tr>\n",
       "  </tbody>\n",
       "</table>\n",
       "<p>41780 rows × 7 columns</p>\n",
       "</div>"
      ],
      "text/plain": [
       "       customuser_id  developer  has_sso_at_signup  \\\n",
       "0              10768      False              False   \n",
       "1              37548      False              False   \n",
       "2              42565      False              False   \n",
       "3              42854       True              False   \n",
       "4              55249      False              False   \n",
       "...              ...        ...                ...   \n",
       "41775        6602264      False               True   \n",
       "41776        6602646      False              False   \n",
       "41777        6603480      False               True   \n",
       "41778        6603857      False              False   \n",
       "41779        6603966      False               True   \n",
       "\n",
       "       days_between_signup_and_activation          role_name  \\\n",
       "0                                    2722               None   \n",
       "1                                    2569               None   \n",
       "2                                    2539               None   \n",
       "3                                    2552               None   \n",
       "4                                    2520               None   \n",
       "...                                   ...                ...   \n",
       "41775                                  -1               None   \n",
       "41776                                  -1               None   \n",
       "41777                                  -1  Real Estate Agent   \n",
       "41778                                  -1              Other   \n",
       "41779                                  -1               None   \n",
       "\n",
       "                org_name  followed_apps_count  \n",
       "0                   None                 11.0  \n",
       "1                   None                 12.0  \n",
       "2                   None                 17.0  \n",
       "3                   None                  8.0  \n",
       "4                   None                 14.0  \n",
       "...                  ...                  ...  \n",
       "41775               None                 10.0  \n",
       "41776               None                  2.0  \n",
       "41777  LEGF Constructora                  9.0  \n",
       "41778          indonesia                  1.0  \n",
       "41779               None                 11.0  \n",
       "\n",
       "[41780 rows x 7 columns]"
      ]
     },
     "execution_count": 8,
     "metadata": {},
     "output_type": "execute_result"
    }
   ],
   "source": [
    "df"
   ]
  },
  {
   "cell_type": "code",
   "execution_count": 9,
   "metadata": {},
   "outputs": [],
   "source": [
    "s.display_more_data(20)"
   ]
  },
  {
   "cell_type": "markdown",
   "metadata": {},
   "source": [
    "## Front End"
   ]
  },
  {
   "cell_type": "code",
   "execution_count": 10,
   "metadata": {},
   "outputs": [],
   "source": [
    "fe = dt.FrontEnd()"
   ]
  },
  {
   "cell_type": "code",
   "execution_count": 11,
   "metadata": {},
   "outputs": [],
   "source": [
    "dropdown_html = fe.dropdown_from_dataframe('Role Name', df, 'role_name')"
   ]
  },
  {
   "cell_type": "code",
   "execution_count": 12,
   "metadata": {},
   "outputs": [
    {
     "data": {
      "text/html": [
       "<select id=\"Role Name\" width: 400px;><option value=\"---\">---</option><option value=\"None\">None</option><option value=\"DevOps Engineer\">DevOps Engineer</option><option value=\"Business Owner or Founder\">Business Owner or Founder</option><option value=\"Other\">Other</option><option value=\"Salesperson\">Salesperson</option><option value=\"Information Technology Professional\">Information Technology Professional</option><option value=\"Web Engineer\">Web Engineer</option><option value=\"Business Development Professional\">Business Development Professional</option><option value=\"Marketer\">Marketer</option><option value=\"Designer\">Designer</option><option value=\"President or CEO\">President or CEO</option><option value=\"Software Engineer\">Software Engineer</option><option value=\"Operations Professional\">Operations Professional</option><option value=\"Marketing\">Marketing</option><option value=\"Student\">Student</option><option value=\"Teacher or Professor\">Teacher or Professor</option><option value=\"Legal Professional\">Legal Professional</option><option value=\"Real Estate Agent\">Real Estate Agent</option><option value=\"Consulting\">Consulting</option><option value=\"Project Manager\">Project Manager</option><option value=\"Product Manager\">Product Manager</option><option value=\"Retail & E-commerce\">Retail & E-commerce</option><option value=\"Office Manager\">Office Manager</option><option value=\"Data Science Engineer\">Data Science Engineer</option><option value=\"Writer or Editor\">Writer or Editor</option><option value=\"Finance & Accounting\">Finance & Accounting</option><option value=\"IT & DevOps\">IT & DevOps</option><option value=\"Customer Service Representative\">Customer Service Representative</option><option value=\"Project & Product Management\">Project & Product Management</option><option value=\"Property Manager\">Property Manager</option><option value=\"HR & Recruiting\">HR & Recruiting</option><option value=\"Fitness Coach\">Fitness Coach</option><option value=\"Education\">Education</option><option value=\"Personal Assistant\">Personal Assistant</option><option value=\"Accountant\">Accountant</option><option value=\"Engineering\">Engineering</option><option value=\"Mechanical Engineer\">Mechanical Engineer</option><option value=\"Human Resources Professional\">Human Resources Professional</option><option value=\"Health Professional\">Health Professional</option><option value=\"Recruiter\">Recruiter</option><option value=\"Financial Advisor\">Financial Advisor</option><option value=\"Facilities Manager\">Facilities Manager</option><option value=\"School Administrator\">School Administrator</option><option value=\"Public Relations Professional\">Public Relations Professional</option></select>"
      ],
      "text/plain": [
       "<IPython.core.display.HTML object>"
      ]
     },
     "metadata": {},
     "output_type": "display_data"
    }
   ],
   "source": [
    "display(HTML(dropdown_html))"
   ]
  },
  {
   "cell_type": "markdown",
   "metadata": {},
   "source": [
    "## Exploratory Data Analysis (EDA)"
   ]
  },
  {
   "cell_type": "code",
   "execution_count": 13,
   "metadata": {},
   "outputs": [],
   "source": [
    "eda = dt.Eda()\n",
    "numerical_vals, categorical_vals = eda.separate_cols_by_type(df)"
   ]
  },
  {
   "cell_type": "code",
   "execution_count": 14,
   "metadata": {},
   "outputs": [
    {
     "data": {
      "text/html": [
       "<div>\n",
       "<style scoped>\n",
       "    .dataframe tbody tr th:only-of-type {\n",
       "        vertical-align: middle;\n",
       "    }\n",
       "\n",
       "    .dataframe tbody tr th {\n",
       "        vertical-align: top;\n",
       "    }\n",
       "\n",
       "    .dataframe thead th {\n",
       "        text-align: right;\n",
       "    }\n",
       "</style>\n",
       "<table border=\"1\" class=\"dataframe\">\n",
       "  <thead>\n",
       "    <tr style=\"text-align: right;\">\n",
       "      <th></th>\n",
       "      <th>customuser_id</th>\n",
       "      <th>days_between_signup_and_activation</th>\n",
       "      <th>followed_apps_count</th>\n",
       "    </tr>\n",
       "  </thead>\n",
       "  <tbody>\n",
       "    <tr>\n",
       "      <th>0</th>\n",
       "      <td>10768</td>\n",
       "      <td>2722</td>\n",
       "      <td>11.000000</td>\n",
       "    </tr>\n",
       "    <tr>\n",
       "      <th>1</th>\n",
       "      <td>37548</td>\n",
       "      <td>2569</td>\n",
       "      <td>12.000000</td>\n",
       "    </tr>\n",
       "    <tr>\n",
       "      <th>2</th>\n",
       "      <td>42565</td>\n",
       "      <td>2539</td>\n",
       "      <td>17.000000</td>\n",
       "    </tr>\n",
       "    <tr>\n",
       "      <th>3</th>\n",
       "      <td>42854</td>\n",
       "      <td>2552</td>\n",
       "      <td>8.000000</td>\n",
       "    </tr>\n",
       "    <tr>\n",
       "      <th>4</th>\n",
       "      <td>55249</td>\n",
       "      <td>2520</td>\n",
       "      <td>14.000000</td>\n",
       "    </tr>\n",
       "    <tr>\n",
       "      <th>...</th>\n",
       "      <td>...</td>\n",
       "      <td>...</td>\n",
       "      <td>...</td>\n",
       "    </tr>\n",
       "    <tr>\n",
       "      <th>41775</th>\n",
       "      <td>6602264</td>\n",
       "      <td>-1</td>\n",
       "      <td>10.000000</td>\n",
       "    </tr>\n",
       "    <tr>\n",
       "      <th>41776</th>\n",
       "      <td>6602646</td>\n",
       "      <td>-1</td>\n",
       "      <td>2.000000</td>\n",
       "    </tr>\n",
       "    <tr>\n",
       "      <th>41777</th>\n",
       "      <td>6603480</td>\n",
       "      <td>-1</td>\n",
       "      <td>9.000000</td>\n",
       "    </tr>\n",
       "    <tr>\n",
       "      <th>41778</th>\n",
       "      <td>6603857</td>\n",
       "      <td>-1</td>\n",
       "      <td>1.000000</td>\n",
       "    </tr>\n",
       "    <tr>\n",
       "      <th>41779</th>\n",
       "      <td>6603966</td>\n",
       "      <td>-1</td>\n",
       "      <td>11.000000</td>\n",
       "    </tr>\n",
       "  </tbody>\n",
       "</table>\n",
       "<p>41780 rows × 3 columns</p>\n",
       "</div>"
      ],
      "text/plain": [
       "       customuser_id  days_between_signup_and_activation  followed_apps_count\n",
       "0              10768                                2722            11.000000\n",
       "1              37548                                2569            12.000000\n",
       "2              42565                                2539            17.000000\n",
       "3              42854                                2552             8.000000\n",
       "4              55249                                2520            14.000000\n",
       "...              ...                                 ...                  ...\n",
       "41775        6602264                                  -1            10.000000\n",
       "41776        6602646                                  -1             2.000000\n",
       "41777        6603480                                  -1             9.000000\n",
       "41778        6603857                                  -1             1.000000\n",
       "41779        6603966                                  -1            11.000000\n",
       "\n",
       "[41780 rows x 3 columns]"
      ]
     },
     "execution_count": 14,
     "metadata": {},
     "output_type": "execute_result"
    }
   ],
   "source": [
    "numerical_vals"
   ]
  },
  {
   "cell_type": "code",
   "execution_count": 15,
   "metadata": {},
   "outputs": [
    {
     "data": {
      "text/html": [
       "<div>\n",
       "<style scoped>\n",
       "    .dataframe tbody tr th:only-of-type {\n",
       "        vertical-align: middle;\n",
       "    }\n",
       "\n",
       "    .dataframe tbody tr th {\n",
       "        vertical-align: top;\n",
       "    }\n",
       "\n",
       "    .dataframe thead th {\n",
       "        text-align: right;\n",
       "    }\n",
       "</style>\n",
       "<table border=\"1\" class=\"dataframe\">\n",
       "  <thead>\n",
       "    <tr style=\"text-align: right;\">\n",
       "      <th></th>\n",
       "      <th>developer</th>\n",
       "      <th>has_sso_at_signup</th>\n",
       "      <th>role_name</th>\n",
       "      <th>org_name</th>\n",
       "    </tr>\n",
       "  </thead>\n",
       "  <tbody>\n",
       "    <tr>\n",
       "      <th>0</th>\n",
       "      <td>False</td>\n",
       "      <td>False</td>\n",
       "      <td>None</td>\n",
       "      <td>None</td>\n",
       "    </tr>\n",
       "    <tr>\n",
       "      <th>1</th>\n",
       "      <td>False</td>\n",
       "      <td>False</td>\n",
       "      <td>None</td>\n",
       "      <td>None</td>\n",
       "    </tr>\n",
       "    <tr>\n",
       "      <th>2</th>\n",
       "      <td>False</td>\n",
       "      <td>False</td>\n",
       "      <td>None</td>\n",
       "      <td>None</td>\n",
       "    </tr>\n",
       "    <tr>\n",
       "      <th>3</th>\n",
       "      <td>True</td>\n",
       "      <td>False</td>\n",
       "      <td>None</td>\n",
       "      <td>None</td>\n",
       "    </tr>\n",
       "    <tr>\n",
       "      <th>4</th>\n",
       "      <td>False</td>\n",
       "      <td>False</td>\n",
       "      <td>None</td>\n",
       "      <td>None</td>\n",
       "    </tr>\n",
       "    <tr>\n",
       "      <th>...</th>\n",
       "      <td>...</td>\n",
       "      <td>...</td>\n",
       "      <td>...</td>\n",
       "      <td>...</td>\n",
       "    </tr>\n",
       "    <tr>\n",
       "      <th>41775</th>\n",
       "      <td>False</td>\n",
       "      <td>True</td>\n",
       "      <td>None</td>\n",
       "      <td>None</td>\n",
       "    </tr>\n",
       "    <tr>\n",
       "      <th>41776</th>\n",
       "      <td>False</td>\n",
       "      <td>False</td>\n",
       "      <td>None</td>\n",
       "      <td>None</td>\n",
       "    </tr>\n",
       "    <tr>\n",
       "      <th>41777</th>\n",
       "      <td>False</td>\n",
       "      <td>True</td>\n",
       "      <td>Real Estate Agent</td>\n",
       "      <td>LEGF Constructora</td>\n",
       "    </tr>\n",
       "    <tr>\n",
       "      <th>41778</th>\n",
       "      <td>False</td>\n",
       "      <td>False</td>\n",
       "      <td>Other</td>\n",
       "      <td>indonesia</td>\n",
       "    </tr>\n",
       "    <tr>\n",
       "      <th>41779</th>\n",
       "      <td>False</td>\n",
       "      <td>True</td>\n",
       "      <td>None</td>\n",
       "      <td>None</td>\n",
       "    </tr>\n",
       "  </tbody>\n",
       "</table>\n",
       "<p>41780 rows × 4 columns</p>\n",
       "</div>"
      ],
      "text/plain": [
       "       developer  has_sso_at_signup          role_name           org_name\n",
       "0          False              False               None               None\n",
       "1          False              False               None               None\n",
       "2          False              False               None               None\n",
       "3           True              False               None               None\n",
       "4          False              False               None               None\n",
       "...          ...                ...                ...                ...\n",
       "41775      False               True               None               None\n",
       "41776      False              False               None               None\n",
       "41777      False               True  Real Estate Agent  LEGF Constructora\n",
       "41778      False              False              Other          indonesia\n",
       "41779      False               True               None               None\n",
       "\n",
       "[41780 rows x 4 columns]"
      ]
     },
     "execution_count": 15,
     "metadata": {},
     "output_type": "execute_result"
    }
   ],
   "source": [
    "categorical_vals"
   ]
  },
  {
   "cell_type": "code",
   "execution_count": 16,
   "metadata": {},
   "outputs": [
    {
     "data": {
      "text/plain": [
       "[]"
      ]
     },
     "execution_count": 16,
     "metadata": {},
     "output_type": "execute_result"
    }
   ],
   "source": [
    "eda.check_for_mistyped_booleans(numerical_vals)"
   ]
  },
  {
   "cell_type": "code",
   "execution_count": 17,
   "metadata": {},
   "outputs": [
    {
     "name": "stdout",
     "output_type": "stream",
     "text": [
      "customuser_id\n",
      "role_name\n",
      "org_name\n"
     ]
    },
    {
     "data": {
      "text/plain": [
       "['customuser_id', 'role_name', 'org_name']"
      ]
     },
     "execution_count": 17,
     "metadata": {},
     "output_type": "execute_result"
    }
   ],
   "source": [
    "eda.find_cols_to_exclude(df)"
   ]
  },
  {
   "cell_type": "code",
   "execution_count": 18,
   "metadata": {},
   "outputs": [
    {
     "name": "stdout",
     "output_type": "stream",
     "text": [
      "customuser_id\n",
      "[ 10768  37548  42565  42854  55249  59641  63194  77771  88974  97967\n",
      " 136683 146705 153523 156032 168040 182417 187831 222237 232958 236589]\n",
      "41780\n",
      "\n",
      "------------------------------------\n",
      "\n",
      "developer\n",
      "[False  True]\n",
      "2\n",
      "\n",
      "------------------------------------\n",
      "\n",
      "has_sso_at_signup\n",
      "[False  True]\n",
      "2\n",
      "\n",
      "------------------------------------\n",
      "\n",
      "days_between_signup_and_activation\n",
      "[2722 2569 2539 2552 2520 2492 2471 2425 2398 2348 2231 2209 2194 2200\n",
      " 2188 2154 2159 2119 2083 2088]\n",
      "1600\n",
      "\n",
      "------------------------------------\n",
      "\n",
      "role_name\n",
      "[None 'DevOps Engineer' 'Business Owner or Founder' 'Other' 'Salesperson'\n",
      " 'Information Technology Professional' 'Web Engineer'\n",
      " 'Business Development Professional' 'Marketer' 'Designer'\n",
      " 'President or CEO' 'Software Engineer' 'Operations Professional'\n",
      " 'Marketing' 'Student' 'Teacher or Professor' 'Legal Professional'\n",
      " 'Real Estate Agent' 'Consulting' 'Project Manager']\n",
      "43\n",
      "\n",
      "------------------------------------\n",
      "\n",
      "org_name\n",
      "[None 'MAS Digital Media' 'Canadian Baptist Ministries'\n",
      " 'Dominion Capital Ltd' 'C&H Stedman' 'Xpertdoc Technologies Inc.'\n",
      " 'theVUE' 'Smashfire Designs' 'Ryden Limited' 'AGT' 'Tree2mydoor Ltd'\n",
      " 'Max Computing Pty Ltd' 'AGN.AGENCY' 'Sharprock Technologies'\n",
      " 'Office Web' 'RED66 Marketing' 'Mr. Breath' 'BlueSky Synergy'\n",
      " 'Read and Write Kalamazoo' 'The Nimble Bar Co']\n",
      "2631\n",
      "\n",
      "------------------------------------\n",
      "\n",
      "followed_apps_count\n",
      "[11. 12. 17.  8. 14. 26.  5. 22. 33. 15.  9. 16.  2.  7. 10. 32.  4.  1.\n",
      " 25.  6.]\n",
      "71\n",
      "\n",
      "------------------------------------\n",
      "\n"
     ]
    }
   ],
   "source": [
    "eda.sample_unique_vals(df)"
   ]
  },
  {
   "cell_type": "code",
   "execution_count": 19,
   "metadata": {
    "scrolled": true
   },
   "outputs": [
    {
     "name": "stdout",
     "output_type": "stream",
     "text": [
      "days_between_signup_and_activation  customuser_id                        0.963381\n",
      "customuser_id                       days_between_signup_and_activation   0.963381\n",
      "has_sso_at_signup                   followed_apps_count                  0.391084\n",
      "followed_apps_count                 has_sso_at_signup                    0.391084\n",
      "days_between_signup_and_activation  has_sso_at_signup                    0.159301\n",
      "has_sso_at_signup                   days_between_signup_and_activation   0.159301\n",
      "customuser_id                       has_sso_at_signup                    0.130802\n",
      "has_sso_at_signup                   customuser_id                        0.130802\n",
      "followed_apps_count                 developer                            0.071712\n",
      "developer                           followed_apps_count                  0.071712\n",
      "followed_apps_count                 customuser_id                        0.071237\n",
      "customuser_id                       followed_apps_count                  0.071237\n",
      "followed_apps_count                 days_between_signup_and_activation   0.049401\n",
      "days_between_signup_and_activation  followed_apps_count                  0.049401\n",
      "developer                           customuser_id                        0.030645\n",
      "customuser_id                       developer                            0.030645\n",
      "developer                           days_between_signup_and_activation   0.024121\n",
      "days_between_signup_and_activation  developer                            0.024121\n",
      "developer                           has_sso_at_signup                    0.010683\n",
      "has_sso_at_signup                   developer                            0.010683\n",
      "dtype: float64\n"
     ]
    },
    {
     "data": {
      "text/plain": [
       "days_between_signup_and_activation  customuser_id                        0.963381\n",
       "customuser_id                       days_between_signup_and_activation   0.963381\n",
       "has_sso_at_signup                   followed_apps_count                  0.391084\n",
       "followed_apps_count                 has_sso_at_signup                    0.391084\n",
       "days_between_signup_and_activation  has_sso_at_signup                    0.159301\n",
       "has_sso_at_signup                   days_between_signup_and_activation   0.159301\n",
       "customuser_id                       has_sso_at_signup                    0.130802\n",
       "has_sso_at_signup                   customuser_id                        0.130802\n",
       "followed_apps_count                 developer                            0.071712\n",
       "developer                           followed_apps_count                  0.071712\n",
       "followed_apps_count                 customuser_id                        0.071237\n",
       "customuser_id                       followed_apps_count                  0.071237\n",
       "followed_apps_count                 days_between_signup_and_activation   0.049401\n",
       "days_between_signup_and_activation  followed_apps_count                  0.049401\n",
       "developer                           customuser_id                        0.030645\n",
       "customuser_id                       developer                            0.030645\n",
       "developer                           days_between_signup_and_activation   0.024121\n",
       "days_between_signup_and_activation  developer                            0.024121\n",
       "developer                           has_sso_at_signup                    0.010683\n",
       "has_sso_at_signup                   developer                            0.010683\n",
       "dtype: float64"
      ]
     },
     "execution_count": 19,
     "metadata": {},
     "output_type": "execute_result"
    }
   ],
   "source": [
    "eda.find_correlated_features(df)"
   ]
  },
  {
   "cell_type": "code",
   "execution_count": 20,
   "metadata": {},
   "outputs": [],
   "source": [
    "df[\"days_between_signup_and_activation\"].fillna(\n",
    "    df[\"days_between_signup_and_activation\"].mean(), inplace=True\n",
    ")\n",
    "df[\"followed_apps_count\"].fillna(df[\"followed_apps_count\"].mean(), inplace=True)\n",
    "\n",
    "df[\"role_name\"].fillna(\"Unknown\", inplace=True)\n",
    "df[\"org_name\"].fillna(\"Unknown\", inplace=True)"
   ]
  },
  {
   "cell_type": "markdown",
   "metadata": {},
   "source": [
    "## Clean Text"
   ]
  },
  {
   "cell_type": "code",
   "execution_count": 21,
   "metadata": {},
   "outputs": [],
   "source": [
    "ct = dt.CleanText()"
   ]
  },
  {
   "cell_type": "code",
   "execution_count": 22,
   "metadata": {},
   "outputs": [],
   "source": [
    "example1 = \"\"\"I am some text with a link in it: https://www.google.com Sincerely Kristie\"\"\""
   ]
  },
  {
   "cell_type": "code",
   "execution_count": 23,
   "metadata": {},
   "outputs": [
    {
     "data": {
      "text/plain": [
       "'I am some text with a link in it:  Sincerely Kristie'"
      ]
     },
     "execution_count": 23,
     "metadata": {},
     "output_type": "execute_result"
    }
   ],
   "source": [
    "ct.remove_links(example1)"
   ]
  },
  {
   "cell_type": "code",
   "execution_count": 24,
   "metadata": {},
   "outputs": [],
   "source": [
    "example2 = \"\"\"I enjoy reading and meditating. Yesterday I made a quiche.\"\"\""
   ]
  },
  {
   "cell_type": "code",
   "execution_count": 25,
   "metadata": {},
   "outputs": [
    {
     "data": {
      "text/plain": [
       "['-PRON-',\n",
       " 'enjoy',\n",
       " 'read',\n",
       " 'and',\n",
       " 'meditating',\n",
       " '.',\n",
       " 'yesterday',\n",
       " '-PRON-',\n",
       " 'make',\n",
       " 'a',\n",
       " 'quiche',\n",
       " '.']"
      ]
     },
     "execution_count": 25,
     "metadata": {},
     "output_type": "execute_result"
    }
   ],
   "source": [
    "ct.lematize(example2)"
   ]
  },
  {
   "cell_type": "code",
   "execution_count": 26,
   "metadata": {},
   "outputs": [],
   "source": [
    "example3 = \"\"\"\n",
    "Dear so & so, \n",
    "\n",
    "I have a question for you. \n",
    "\n",
    "Sincerely, Kristie\"\"\""
   ]
  },
  {
   "cell_type": "code",
   "execution_count": 27,
   "metadata": {},
   "outputs": [
    {
     "data": {
      "text/plain": [
       "'\\n\\n\\nI have a question for you. \\n\\n'"
      ]
     },
     "execution_count": 27,
     "metadata": {},
     "output_type": "execute_result"
    }
   ],
   "source": [
    "ct.remove_email_greetings_signatures(example3)"
   ]
  },
  {
   "cell_type": "code",
   "execution_count": 28,
   "metadata": {},
   "outputs": [
    {
     "data": {
      "text/html": [
       "<div>\n",
       "<style scoped>\n",
       "    .dataframe tbody tr th:only-of-type {\n",
       "        vertical-align: middle;\n",
       "    }\n",
       "\n",
       "    .dataframe tbody tr th {\n",
       "        vertical-align: top;\n",
       "    }\n",
       "\n",
       "    .dataframe thead th {\n",
       "        text-align: right;\n",
       "    }\n",
       "</style>\n",
       "<table border=\"1\" class=\"dataframe\">\n",
       "  <thead>\n",
       "    <tr style=\"text-align: right;\">\n",
       "      <th></th>\n",
       "      <th>customuser_id</th>\n",
       "      <th>developer</th>\n",
       "      <th>has_sso_at_signup</th>\n",
       "      <th>days_between_signup_and_activation</th>\n",
       "      <th>role_name</th>\n",
       "      <th>org_name</th>\n",
       "      <th>followed_apps_count</th>\n",
       "    </tr>\n",
       "  </thead>\n",
       "  <tbody>\n",
       "    <tr>\n",
       "      <th>0</th>\n",
       "      <td>10768</td>\n",
       "      <td>False</td>\n",
       "      <td>False</td>\n",
       "      <td>2722</td>\n",
       "      <td>Unknown</td>\n",
       "      <td>Unknown</td>\n",
       "      <td>11.000000</td>\n",
       "    </tr>\n",
       "    <tr>\n",
       "      <th>1</th>\n",
       "      <td>37548</td>\n",
       "      <td>False</td>\n",
       "      <td>False</td>\n",
       "      <td>2569</td>\n",
       "      <td>Unknown</td>\n",
       "      <td>Unknown</td>\n",
       "      <td>12.000000</td>\n",
       "    </tr>\n",
       "    <tr>\n",
       "      <th>2</th>\n",
       "      <td>42565</td>\n",
       "      <td>False</td>\n",
       "      <td>False</td>\n",
       "      <td>2539</td>\n",
       "      <td>Unknown</td>\n",
       "      <td>Unknown</td>\n",
       "      <td>17.000000</td>\n",
       "    </tr>\n",
       "    <tr>\n",
       "      <th>3</th>\n",
       "      <td>42854</td>\n",
       "      <td>True</td>\n",
       "      <td>False</td>\n",
       "      <td>2552</td>\n",
       "      <td>Unknown</td>\n",
       "      <td>Unknown</td>\n",
       "      <td>8.000000</td>\n",
       "    </tr>\n",
       "    <tr>\n",
       "      <th>4</th>\n",
       "      <td>55249</td>\n",
       "      <td>False</td>\n",
       "      <td>False</td>\n",
       "      <td>2520</td>\n",
       "      <td>Unknown</td>\n",
       "      <td>Unknown</td>\n",
       "      <td>14.000000</td>\n",
       "    </tr>\n",
       "    <tr>\n",
       "      <th>...</th>\n",
       "      <td>...</td>\n",
       "      <td>...</td>\n",
       "      <td>...</td>\n",
       "      <td>...</td>\n",
       "      <td>...</td>\n",
       "      <td>...</td>\n",
       "      <td>...</td>\n",
       "    </tr>\n",
       "    <tr>\n",
       "      <th>41775</th>\n",
       "      <td>6602264</td>\n",
       "      <td>False</td>\n",
       "      <td>True</td>\n",
       "      <td>-1</td>\n",
       "      <td>Unknown</td>\n",
       "      <td>Unknown</td>\n",
       "      <td>10.000000</td>\n",
       "    </tr>\n",
       "    <tr>\n",
       "      <th>41776</th>\n",
       "      <td>6602646</td>\n",
       "      <td>False</td>\n",
       "      <td>False</td>\n",
       "      <td>-1</td>\n",
       "      <td>Unknown</td>\n",
       "      <td>Unknown</td>\n",
       "      <td>2.000000</td>\n",
       "    </tr>\n",
       "    <tr>\n",
       "      <th>41777</th>\n",
       "      <td>6603480</td>\n",
       "      <td>False</td>\n",
       "      <td>True</td>\n",
       "      <td>-1</td>\n",
       "      <td>Real Estate Agent</td>\n",
       "      <td>LEGF Constructora</td>\n",
       "      <td>9.000000</td>\n",
       "    </tr>\n",
       "    <tr>\n",
       "      <th>41778</th>\n",
       "      <td>6603857</td>\n",
       "      <td>False</td>\n",
       "      <td>False</td>\n",
       "      <td>-1</td>\n",
       "      <td>Other</td>\n",
       "      <td>indonesia</td>\n",
       "      <td>1.000000</td>\n",
       "    </tr>\n",
       "    <tr>\n",
       "      <th>41779</th>\n",
       "      <td>6603966</td>\n",
       "      <td>False</td>\n",
       "      <td>True</td>\n",
       "      <td>-1</td>\n",
       "      <td>Unknown</td>\n",
       "      <td>Unknown</td>\n",
       "      <td>11.000000</td>\n",
       "    </tr>\n",
       "  </tbody>\n",
       "</table>\n",
       "<p>41780 rows × 7 columns</p>\n",
       "</div>"
      ],
      "text/plain": [
       "       customuser_id  developer  has_sso_at_signup  \\\n",
       "0              10768      False              False   \n",
       "1              37548      False              False   \n",
       "2              42565      False              False   \n",
       "3              42854       True              False   \n",
       "4              55249      False              False   \n",
       "...              ...        ...                ...   \n",
       "41775        6602264      False               True   \n",
       "41776        6602646      False              False   \n",
       "41777        6603480      False               True   \n",
       "41778        6603857      False              False   \n",
       "41779        6603966      False               True   \n",
       "\n",
       "       days_between_signup_and_activation          role_name  \\\n",
       "0                                    2722            Unknown   \n",
       "1                                    2569            Unknown   \n",
       "2                                    2539            Unknown   \n",
       "3                                    2552            Unknown   \n",
       "4                                    2520            Unknown   \n",
       "...                                   ...                ...   \n",
       "41775                                  -1            Unknown   \n",
       "41776                                  -1            Unknown   \n",
       "41777                                  -1  Real Estate Agent   \n",
       "41778                                  -1              Other   \n",
       "41779                                  -1            Unknown   \n",
       "\n",
       "                org_name  followed_apps_count  \n",
       "0                Unknown            11.000000  \n",
       "1                Unknown            12.000000  \n",
       "2                Unknown            17.000000  \n",
       "3                Unknown             8.000000  \n",
       "4                Unknown            14.000000  \n",
       "...                  ...                  ...  \n",
       "41775            Unknown            10.000000  \n",
       "41776            Unknown             2.000000  \n",
       "41777  LEGF Constructora             9.000000  \n",
       "41778          indonesia             1.000000  \n",
       "41779            Unknown            11.000000  \n",
       "\n",
       "[41780 rows x 7 columns]"
      ]
     },
     "execution_count": 28,
     "metadata": {},
     "output_type": "execute_result"
    }
   ],
   "source": [
    "ct.clean_column_names(df)"
   ]
  },
  {
   "cell_type": "code",
   "execution_count": 29,
   "metadata": {},
   "outputs": [
    {
     "data": {
      "text/html": [
       "<div>\n",
       "<style scoped>\n",
       "    .dataframe tbody tr th:only-of-type {\n",
       "        vertical-align: middle;\n",
       "    }\n",
       "\n",
       "    .dataframe tbody tr th {\n",
       "        vertical-align: top;\n",
       "    }\n",
       "\n",
       "    .dataframe thead th {\n",
       "        text-align: right;\n",
       "    }\n",
       "</style>\n",
       "<table border=\"1\" class=\"dataframe\">\n",
       "  <thead>\n",
       "    <tr style=\"text-align: right;\">\n",
       "      <th></th>\n",
       "      <th>Customuser id</th>\n",
       "      <th>Developer</th>\n",
       "      <th>Has sso at signup</th>\n",
       "      <th>Days between signup and activation</th>\n",
       "      <th>Role name</th>\n",
       "      <th>Org name</th>\n",
       "      <th>Followed apps count</th>\n",
       "    </tr>\n",
       "  </thead>\n",
       "  <tbody>\n",
       "    <tr>\n",
       "      <th>0</th>\n",
       "      <td>10768</td>\n",
       "      <td>False</td>\n",
       "      <td>False</td>\n",
       "      <td>2722</td>\n",
       "      <td>Unknown</td>\n",
       "      <td>Unknown</td>\n",
       "      <td>11.000000</td>\n",
       "    </tr>\n",
       "  </tbody>\n",
       "</table>\n",
       "</div>"
      ],
      "text/plain": [
       "   Customuser id  Developer  Has sso at signup  \\\n",
       "0          10768      False              False   \n",
       "\n",
       "   Days between signup and activation Role name Org name  Followed apps count  \n",
       "0                                2722   Unknown  Unknown            11.000000  "
      ]
     },
     "execution_count": 29,
     "metadata": {},
     "output_type": "execute_result"
    }
   ],
   "source": [
    "df.columns = [x.replace('_', ' ').capitalize() for x in df.columns]\n",
    "df.head(1)"
   ]
  },
  {
   "cell_type": "code",
   "execution_count": 30,
   "metadata": {},
   "outputs": [
    {
     "data": {
      "text/html": [
       "<div>\n",
       "<style scoped>\n",
       "    .dataframe tbody tr th:only-of-type {\n",
       "        vertical-align: middle;\n",
       "    }\n",
       "\n",
       "    .dataframe tbody tr th {\n",
       "        vertical-align: top;\n",
       "    }\n",
       "\n",
       "    .dataframe thead th {\n",
       "        text-align: right;\n",
       "    }\n",
       "</style>\n",
       "<table border=\"1\" class=\"dataframe\">\n",
       "  <thead>\n",
       "    <tr style=\"text-align: right;\">\n",
       "      <th></th>\n",
       "      <th>customuser_id</th>\n",
       "      <th>developer</th>\n",
       "      <th>has_sso_at_signup</th>\n",
       "      <th>days_between_signup_and_activation</th>\n",
       "      <th>role_name</th>\n",
       "      <th>org_name</th>\n",
       "      <th>followed_apps_count</th>\n",
       "    </tr>\n",
       "  </thead>\n",
       "  <tbody>\n",
       "    <tr>\n",
       "      <th>0</th>\n",
       "      <td>10768</td>\n",
       "      <td>False</td>\n",
       "      <td>False</td>\n",
       "      <td>2722</td>\n",
       "      <td>Unknown</td>\n",
       "      <td>Unknown</td>\n",
       "      <td>11.000000</td>\n",
       "    </tr>\n",
       "  </tbody>\n",
       "</table>\n",
       "</div>"
      ],
      "text/plain": [
       "   customuser_id  developer  has_sso_at_signup  \\\n",
       "0          10768      False              False   \n",
       "\n",
       "   days_between_signup_and_activation role_name org_name  followed_apps_count  \n",
       "0                                2722   Unknown  Unknown            11.000000  "
      ]
     },
     "execution_count": 30,
     "metadata": {},
     "output_type": "execute_result"
    }
   ],
   "source": [
    "df = ct.clean_column_names(df)\n",
    "df.head(1)"
   ]
  },
  {
   "cell_type": "code",
   "execution_count": 31,
   "metadata": {},
   "outputs": [
    {
     "name": "stdout",
     "output_type": "stream",
     "text": [
      "<class 'pandas.core.frame.DataFrame'>\n",
      "RangeIndex: 41780 entries, 0 to 41779\n",
      "Data columns (total 7 columns):\n",
      " #   Column                              Non-Null Count  Dtype  \n",
      "---  ------                              --------------  -----  \n",
      " 0   customuser_id                       41780 non-null  int64  \n",
      " 1   developer                           41780 non-null  bool   \n",
      " 2   has_sso_at_signup                   41780 non-null  bool   \n",
      " 3   days_between_signup_and_activation  41780 non-null  int64  \n",
      " 4   role_name                           41780 non-null  object \n",
      " 5   org_name                            41780 non-null  object \n",
      " 6   followed_apps_count                 41780 non-null  float64\n",
      "dtypes: bool(2), float64(1), int64(2), object(2)\n",
      "memory usage: 1.7+ MB\n"
     ]
    }
   ],
   "source": [
    "# Can also do 'datetime' and 'str'\n",
    "ct.fix_col_data_type(df, 'followed_apps_count', 'int')\n",
    "df.info()"
   ]
  },
  {
   "cell_type": "code",
   "execution_count": 32,
   "metadata": {},
   "outputs": [
    {
     "data": {
      "text/html": [
       "<div>\n",
       "<style scoped>\n",
       "    .dataframe tbody tr th:only-of-type {\n",
       "        vertical-align: middle;\n",
       "    }\n",
       "\n",
       "    .dataframe tbody tr th {\n",
       "        vertical-align: top;\n",
       "    }\n",
       "\n",
       "    .dataframe thead th {\n",
       "        text-align: right;\n",
       "    }\n",
       "</style>\n",
       "<table border=\"1\" class=\"dataframe\">\n",
       "  <thead>\n",
       "    <tr style=\"text-align: right;\">\n",
       "      <th></th>\n",
       "      <th>id</th>\n",
       "      <th>id</th>\n",
       "    </tr>\n",
       "  </thead>\n",
       "  <tbody>\n",
       "    <tr>\n",
       "      <th>0</th>\n",
       "      <td>124</td>\n",
       "      <td>124</td>\n",
       "    </tr>\n",
       "    <tr>\n",
       "      <th>1</th>\n",
       "      <td>5676</td>\n",
       "      <td>5676</td>\n",
       "    </tr>\n",
       "    <tr>\n",
       "      <th>2</th>\n",
       "      <td>456</td>\n",
       "      <td>456</td>\n",
       "    </tr>\n",
       "  </tbody>\n",
       "</table>\n",
       "</div>"
      ],
      "text/plain": [
       "     id    id\n",
       "0   124   124\n",
       "1  5676  5676\n",
       "2   456   456"
      ]
     },
     "execution_count": 32,
     "metadata": {},
     "output_type": "execute_result"
    }
   ],
   "source": [
    "dup_df = pd.DataFrame([[124, 124], [5676, 5676], [456, 456]], columns=['id', 'id'])\n",
    "dup_df"
   ]
  },
  {
   "cell_type": "code",
   "execution_count": 33,
   "metadata": {},
   "outputs": [
    {
     "data": {
      "text/html": [
       "<div>\n",
       "<style scoped>\n",
       "    .dataframe tbody tr th:only-of-type {\n",
       "        vertical-align: middle;\n",
       "    }\n",
       "\n",
       "    .dataframe tbody tr th {\n",
       "        vertical-align: top;\n",
       "    }\n",
       "\n",
       "    .dataframe thead th {\n",
       "        text-align: right;\n",
       "    }\n",
       "</style>\n",
       "<table border=\"1\" class=\"dataframe\">\n",
       "  <thead>\n",
       "    <tr style=\"text-align: right;\">\n",
       "      <th></th>\n",
       "      <th>id</th>\n",
       "    </tr>\n",
       "  </thead>\n",
       "  <tbody>\n",
       "    <tr>\n",
       "      <th>0</th>\n",
       "      <td>124</td>\n",
       "    </tr>\n",
       "    <tr>\n",
       "      <th>1</th>\n",
       "      <td>5676</td>\n",
       "    </tr>\n",
       "    <tr>\n",
       "      <th>2</th>\n",
       "      <td>456</td>\n",
       "    </tr>\n",
       "  </tbody>\n",
       "</table>\n",
       "</div>"
      ],
      "text/plain": [
       "     id\n",
       "0   124\n",
       "1  5676\n",
       "2   456"
      ]
     },
     "execution_count": 33,
     "metadata": {},
     "output_type": "execute_result"
    }
   ],
   "source": [
    "ct.remove_duplicate_columns(dup_df)"
   ]
  },
  {
   "cell_type": "markdown",
   "metadata": {},
   "source": [
    "## Train Model"
   ]
  },
  {
   "cell_type": "code",
   "execution_count": 34,
   "metadata": {},
   "outputs": [],
   "source": [
    "df = df.sample(5000)"
   ]
  },
  {
   "cell_type": "code",
   "execution_count": 35,
   "metadata": {},
   "outputs": [],
   "source": [
    "tm = dt.TrainModel()"
   ]
  },
  {
   "cell_type": "code",
   "execution_count": 36,
   "metadata": {},
   "outputs": [],
   "source": [
    "y = df['developer']\n",
    "X = df.drop('developer', axis=1)"
   ]
  },
  {
   "cell_type": "code",
   "execution_count": 37,
   "metadata": {},
   "outputs": [
    {
     "name": "stderr",
     "output_type": "stream",
     "text": [
      "/Users/kristiewirth/.pyenv/versions/mlrecommendations/lib/python3.7/site-packages/pandas/core/frame.py:4164: SettingWithCopyWarning: \n",
      "A value is trying to be set on a copy of a slice from a DataFrame\n",
      "\n",
      "See the caveats in the documentation: https://pandas.pydata.org/pandas-docs/stable/user_guide/indexing.html#returning-a-view-versus-a-copy\n",
      "  errors=errors,\n"
     ]
    }
   ],
   "source": [
    "X_train, X_test, y_train, y_test = train_test_split(X, y)\n",
    "\n",
    "X_train.drop(\"customuser_id\", inplace=True, axis=1)\n",
    "X_test.drop(\"customuser_id\", inplace=True, axis=1)"
   ]
  },
  {
   "cell_type": "code",
   "execution_count": 38,
   "metadata": {},
   "outputs": [],
   "source": [
    "vectorizer = TfidfVectorizer(\n",
    "    tokenizer=ct.lematize,\n",
    "    # Means each word must appear in at least __ different documents\n",
    "    min_df=2,\n",
    ")\n",
    "\n",
    "# Fit + transform = learn from train data, then create transformations\n",
    "train_vectors = vectorizer.fit_transform(X_train[\"org_name\"]).todense()\n",
    "\n",
    "# Transform only - you don't want to learn anything from the test data\n",
    "test_vectors = vectorizer.transform(X_test[\"org_name\"]).todense()\n",
    "\n",
    "words = vectorizer.get_feature_names()\n",
    "X_train_vectors = pd.DataFrame(train_vectors, columns=words, index=X_train.index)\n",
    "X_test_vectors = pd.DataFrame(test_vectors, columns=words, index=X_test.index)\n",
    "\n",
    "X_train.drop(\"org_name\", inplace=True, axis=1)\n",
    "X_test.drop(\"org_name\", inplace=True, axis=1)"
   ]
  },
  {
   "cell_type": "code",
   "execution_count": 39,
   "metadata": {},
   "outputs": [],
   "source": [
    "X_train_dummies = pd.get_dummies(X_train, drop_first=False)\n",
    "X_test_dummies = pd.get_dummies(X_test, drop_first=False).reindex(\n",
    "    columns=X_train_dummies.columns, fill_value=0\n",
    ")"
   ]
  },
  {
   "cell_type": "code",
   "execution_count": 40,
   "metadata": {},
   "outputs": [],
   "source": [
    "X_train_combined = pd.concat([X_train_vectors, X_train_dummies], axis=1)\n",
    "X_test_combined = pd.concat([X_test_vectors, X_test_dummies], axis=1)"
   ]
  },
  {
   "cell_type": "code",
   "execution_count": 41,
   "metadata": {},
   "outputs": [
    {
     "name": "stdout",
     "output_type": "stream",
     "text": [
      "Fitting 3 folds for each of 60 candidates, totalling 180 fits\n"
     ]
    },
    {
     "name": "stderr",
     "output_type": "stream",
     "text": [
      "[Parallel(n_jobs=-2)]: Using backend LokyBackend with 7 concurrent workers.\n",
      "[Parallel(n_jobs=-2)]: Done  27 tasks      | elapsed:    2.5s\n",
      "[Parallel(n_jobs=-2)]: Done 167 out of 180 | elapsed:   28.9s remaining:    2.2s\n",
      "[Parallel(n_jobs=-2)]: Done 180 out of 180 | elapsed:   29.4s finished\n"
     ]
    },
    {
     "name": "stdout",
     "output_type": "stream",
     "text": [
      "\n",
      "\n",
      "\n",
      "*** Best Parameters Using ['precision', 'recall', 'roc_auc'] | Tie Breaker: precision | 2020-08-24 11:08 ***\n",
      "Params: {'model': BaggingClassifier(), 'model__max_features': 1.0, 'model__n_estimators': 5}\n",
      "Mean Recall: 0.0583\n",
      "Mean Precision: 0.1011\n",
      "Mean ROC AUC: 0.5082\n",
      "\n",
      "\n",
      "Params: {'model': BaggingClassifier(), 'model__max_features': 1.0, 'model__n_estimators': 10}\n",
      "Mean Recall: 0.0417\n",
      "Mean Precision: 0.0923\n",
      "Mean ROC AUC: 0.5281\n",
      "\n",
      "\n",
      "Params: {'model': BaggingClassifier(), 'model__max_features': 1.0, 'model__n_estimators': 15}\n",
      "Mean Recall: 0.0333\n",
      "Mean Precision: 0.0702\n",
      "Mean ROC AUC: 0.5598\n",
      "\n",
      "\n",
      "Params: {'model': MLPClassifier(activation='identity', alpha=0.01), 'model__activation': 'identity', 'model__alpha': 0.01}\n",
      "Mean Recall: 0.0169\n",
      "Mean Precision: 0.1762\n",
      "Mean ROC AUC: 0.5735\n",
      "\n",
      "\n",
      "Params: {'model': MLPClassifier(activation='identity', alpha=0.01), 'model__activation': 'identity', 'model__alpha': 0.001}\n",
      "Mean Recall: 0.0083\n",
      "Mean Precision: 0.1667\n",
      "Mean ROC AUC: 0.5550\n",
      "\n",
      "\n"
     ]
    },
    {
     "data": {
      "text/plain": [
       "{'model': MLPClassifier(activation='identity', alpha=0.01),\n",
       " 'model__activation': 'identity',\n",
       " 'model__alpha': 0.01}"
      ]
     },
     "execution_count": 41,
     "metadata": {},
     "output_type": "execute_result"
    }
   ],
   "source": [
    "pipeline = Pipeline([(\"model\", LogisticRegression()),])\n",
    "\n",
    "tm.model_testing(X_train_combined, y_train, pipeline, \"classification\", \"precision\")"
   ]
  },
  {
   "cell_type": "markdown",
   "metadata": {},
   "source": [
    "## Model Results"
   ]
  },
  {
   "cell_type": "markdown",
   "metadata": {},
   "source": [
    "### Classifier"
   ]
  },
  {
   "cell_type": "code",
   "execution_count": 42,
   "metadata": {},
   "outputs": [
    {
     "name": "stdout",
     "output_type": "stream",
     "text": [
      "Final Model Precision: 0.2\n",
      "Final Model Recall: 0.12121212121212122\n",
      "Final Model ROC AUC: 0.5540325191105798\n",
      "Predicted  False  True \n",
      "Actual                 \n",
      "False       1201     16\n",
      "True          29      4\n",
      "Predicted    False    True \n",
      "Actual                     \n",
      "False     0.961000 0.013000\n",
      "True      0.023000 0.003000\n"
     ]
    },
    {
     "data": {
      "text/plain": [
       "(Pipeline(steps=[('model', BaggingClassifier(n_estimators=15))]),\n",
       " array([False, False, False, ..., False, False, False]))"
      ]
     },
     "execution_count": 42,
     "metadata": {},
     "output_type": "execute_result"
    }
   ],
   "source": [
    "pipeline = Pipeline([(\"model\", BaggingClassifier(max_features=1.0, n_estimators=15))])\n",
    "\n",
    "pipeline.fit(X_train_combined, y_train)\n",
    "y_predicted = pipeline.predict(X_test_combined)\n",
    "\n",
    "mr = dt.ModelResults()\n",
    "mr.score_final_model(\n",
    "    \"classification\", X_train_combined, y_train, X_test_combined, y_test, pipeline\n",
    ")"
   ]
  },
  {
   "cell_type": "code",
   "execution_count": 43,
   "metadata": {
    "scrolled": true
   },
   "outputs": [
    {
     "name": "stderr",
     "output_type": "stream",
     "text": [
      "/Users/kristiewirth/.pyenv/versions/mlrecommendations/lib/python3.7/site-packages/sklearn/linear_model/_logistic.py:764: ConvergenceWarning: lbfgs failed to converge (status=1):\n",
      "STOP: TOTAL NO. of ITERATIONS REACHED LIMIT.\n",
      "\n",
      "Increase the number of iterations (max_iter) or scale the data as shown in:\n",
      "    https://scikit-learn.org/stable/modules/preprocessing.html\n",
      "Please also refer to the documentation for alternative solver options:\n",
      "    https://scikit-learn.org/stable/modules/linear_model.html#logistic-regression\n",
      "  extra_warning_msg=_LOGISTIC_SOLVER_CONVERGENCE_MSG)\n",
      "/Users/kristiewirth/.pyenv/versions/mlrecommendations/lib/python3.7/site-packages/sklearn/linear_model/_logistic.py:764: ConvergenceWarning: lbfgs failed to converge (status=1):\n",
      "STOP: TOTAL NO. of ITERATIONS REACHED LIMIT.\n",
      "\n",
      "Increase the number of iterations (max_iter) or scale the data as shown in:\n",
      "    https://scikit-learn.org/stable/modules/preprocessing.html\n",
      "Please also refer to the documentation for alternative solver options:\n",
      "    https://scikit-learn.org/stable/modules/linear_model.html#logistic-regression\n",
      "  extra_warning_msg=_LOGISTIC_SOLVER_CONVERGENCE_MSG)\n",
      "/Users/kristiewirth/.pyenv/versions/mlrecommendations/lib/python3.7/site-packages/sklearn/linear_model/_logistic.py:764: ConvergenceWarning: lbfgs failed to converge (status=1):\n",
      "STOP: TOTAL NO. of ITERATIONS REACHED LIMIT.\n",
      "\n",
      "Increase the number of iterations (max_iter) or scale the data as shown in:\n",
      "    https://scikit-learn.org/stable/modules/preprocessing.html\n",
      "Please also refer to the documentation for alternative solver options:\n",
      "    https://scikit-learn.org/stable/modules/linear_model.html#logistic-regression\n",
      "  extra_warning_msg=_LOGISTIC_SOLVER_CONVERGENCE_MSG)\n"
     ]
    },
    {
     "name": "stdout",
     "output_type": "stream",
     "text": [
      "Coefficients summary (descending by mean abs value):\n",
      "                                     features      mean      std    median\n",
      "65                            role_name_Other -1.264426 0.069507 -1.226036\n",
      "57                      role_name_IT & DevOps  1.118502 0.032696  1.112836\n",
      "67                 role_name_President or CEO -0.996857 0.217683 -0.902935\n",
      "78                role_name_Software Engineer  0.960563 0.451627  1.060777\n",
      "82                     role_name_Web Engineer  0.789950 0.063833  0.795755\n",
      "44  role_name_Customer Service Representative -0.676443 0.020511 -0.665603\n",
      "76                      role_name_Salesperson -0.668993 0.016706 -0.660566\n",
      "46                         role_name_Designer -0.665688 0.025757 -0.656470\n",
      "64          role_name_Operations Professional -0.651351 0.040500 -0.666726\n",
      "60                         role_name_Marketer -0.575439 0.222738 -0.566887\n"
     ]
    },
    {
     "data": {
      "text/html": [
       "<div>\n",
       "<style scoped>\n",
       "    .dataframe tbody tr th:only-of-type {\n",
       "        vertical-align: middle;\n",
       "    }\n",
       "\n",
       "    .dataframe tbody tr th {\n",
       "        vertical-align: top;\n",
       "    }\n",
       "\n",
       "    .dataframe thead th {\n",
       "        text-align: right;\n",
       "    }\n",
       "</style>\n",
       "<table border=\"1\" class=\"dataframe\">\n",
       "  <thead>\n",
       "    <tr style=\"text-align: right;\">\n",
       "      <th></th>\n",
       "      <th>features</th>\n",
       "      <th>mean</th>\n",
       "      <th>std</th>\n",
       "      <th>median</th>\n",
       "    </tr>\n",
       "  </thead>\n",
       "  <tbody>\n",
       "    <tr>\n",
       "      <th>65</th>\n",
       "      <td>role_name_Other</td>\n",
       "      <td>-1.264426</td>\n",
       "      <td>0.069507</td>\n",
       "      <td>-1.226036</td>\n",
       "    </tr>\n",
       "    <tr>\n",
       "      <th>57</th>\n",
       "      <td>role_name_IT &amp; DevOps</td>\n",
       "      <td>1.118502</td>\n",
       "      <td>0.032696</td>\n",
       "      <td>1.112836</td>\n",
       "    </tr>\n",
       "    <tr>\n",
       "      <th>67</th>\n",
       "      <td>role_name_President or CEO</td>\n",
       "      <td>-0.996857</td>\n",
       "      <td>0.217683</td>\n",
       "      <td>-0.902935</td>\n",
       "    </tr>\n",
       "    <tr>\n",
       "      <th>78</th>\n",
       "      <td>role_name_Software Engineer</td>\n",
       "      <td>0.960563</td>\n",
       "      <td>0.451627</td>\n",
       "      <td>1.060777</td>\n",
       "    </tr>\n",
       "    <tr>\n",
       "      <th>82</th>\n",
       "      <td>role_name_Web Engineer</td>\n",
       "      <td>0.789950</td>\n",
       "      <td>0.063833</td>\n",
       "      <td>0.795755</td>\n",
       "    </tr>\n",
       "    <tr>\n",
       "      <th>44</th>\n",
       "      <td>role_name_Customer Service Representative</td>\n",
       "      <td>-0.676443</td>\n",
       "      <td>0.020511</td>\n",
       "      <td>-0.665603</td>\n",
       "    </tr>\n",
       "    <tr>\n",
       "      <th>76</th>\n",
       "      <td>role_name_Salesperson</td>\n",
       "      <td>-0.668993</td>\n",
       "      <td>0.016706</td>\n",
       "      <td>-0.660566</td>\n",
       "    </tr>\n",
       "    <tr>\n",
       "      <th>46</th>\n",
       "      <td>role_name_Designer</td>\n",
       "      <td>-0.665688</td>\n",
       "      <td>0.025757</td>\n",
       "      <td>-0.656470</td>\n",
       "    </tr>\n",
       "    <tr>\n",
       "      <th>64</th>\n",
       "      <td>role_name_Operations Professional</td>\n",
       "      <td>-0.651351</td>\n",
       "      <td>0.040500</td>\n",
       "      <td>-0.666726</td>\n",
       "    </tr>\n",
       "    <tr>\n",
       "      <th>60</th>\n",
       "      <td>role_name_Marketer</td>\n",
       "      <td>-0.575439</td>\n",
       "      <td>0.222738</td>\n",
       "      <td>-0.566887</td>\n",
       "    </tr>\n",
       "  </tbody>\n",
       "</table>\n",
       "</div>"
      ],
      "text/plain": [
       "                                     features      mean      std    median\n",
       "65                            role_name_Other -1.264426 0.069507 -1.226036\n",
       "57                      role_name_IT & DevOps  1.118502 0.032696  1.112836\n",
       "67                 role_name_President or CEO -0.996857 0.217683 -0.902935\n",
       "78                role_name_Software Engineer  0.960563 0.451627  1.060777\n",
       "82                     role_name_Web Engineer  0.789950 0.063833  0.795755\n",
       "44  role_name_Customer Service Representative -0.676443 0.020511 -0.665603\n",
       "76                      role_name_Salesperson -0.668993 0.016706 -0.660566\n",
       "46                         role_name_Designer -0.665688 0.025757 -0.656470\n",
       "64          role_name_Operations Professional -0.651351 0.040500 -0.666726\n",
       "60                         role_name_Marketer -0.575439 0.222738 -0.566887"
      ]
     },
     "execution_count": 43,
     "metadata": {},
     "output_type": "execute_result"
    }
   ],
   "source": [
    "mr.coefficients_summary(X_train_combined, y_train, 3, 10, 'classification')"
   ]
  },
  {
   "cell_type": "markdown",
   "metadata": {},
   "source": [
    "### Text analysis"
   ]
  },
  {
   "cell_type": "code",
   "execution_count": 44,
   "metadata": {},
   "outputs": [],
   "source": [
    "text_df = dc.run_sql_redshift(conn, \"\"\"\n",
    "SELECT\n",
    "    body\n",
    "FROM hs_threads\n",
    "WHERE created_at > '2020-08-01' AND created_by_customer = True\n",
    "LIMIT 100\n",
    "\"\"\")"
   ]
  },
  {
   "cell_type": "code",
   "execution_count": 45,
   "metadata": {
    "scrolled": true
   },
   "outputs": [
    {
     "name": "stderr",
     "output_type": "stream",
     "text": [
      "/Users/kristiewirth/.pyenv/versions/mlrecommendations/lib/python3.7/site-packages/sklearn/feature_extraction/text.py:386: UserWarning: Your stop_words may be inconsistent with your preprocessing. Tokenizing the stop words generated tokens ['-PRON-', 'make'] not in stop_words.\n",
      "  'stop_words.' % sorted(inconsistent))\n"
     ]
    },
    {
     "name": "stdout",
     "output_type": "stream",
     "text": [
      "Topics created with top words & example texts:\n",
      "   topic_num                                          top_words  \\\n",
      "0          0  [-PRON-, ., ,, !, thank, thank -PRON-, -PRON- ...   \n",
      "1          1  [chris.allen@harvardbusiness.org, -, 617, 617 ...   \n",
      "2          2  [|, -, mathias, :, password, mathias j., 650, ...   \n",
      "3          3  [61 broadway suite, 448 - 3296, ) 448, 646 ) 4...   \n",
      "4          4  [update ? thank, update ?, , naveen, naveen ko...   \n",
      "5          5  [|, :, intend, : +91, +91, #, information, int...   \n",
      "6          6  [=, = =, http://www.quickbuyproperties.co.za/,...   \n",
      "7          7  [-PRON-, -PRON- credit, credit, , -PRON-, arvi...   \n",
      "8          8  [thank update !, thank update, update !, updat...   \n",
      "9          9            [\", -PRON-, ,, :, ), ., >, ) :, -, zap]   \n",
      "\n",
      "                                        sample_texts  \n",
      "0  [Hi,\\nI see that we now have 11 templates for ...  \n",
      "1  [Hi - I want to get back to this. Is there ava...  \n",
      "2  [Were you successful with resetting the passwo...  \n",
      "3  [Hello!\\nI wanted to follow up on this to see ...  \n",
      "4  [Hi Andy,\\nI was wondering what we needed to d...  \n",
      "5  [Hi Owari,\\nYes we need to do the below operat...  \n",
      "6  [Dear Laura\\nSee the screenshots\\nThis from FB...  \n",
      "7  [Hello Arvind,\\nWe don't see the credit in the...  \n",
      "8  [Hi Wes,\\nI just checked in with Bullhorn for ...  \n",
      "9  [Dear Kaushi,\\nHope you are doing good.\\nI've ...  \n"
     ]
    }
   ],
   "source": [
    "topic_words_df, combined_df = mr.most_similar_texts(text_df, 10, 10, 10, 'body')"
   ]
  },
  {
   "cell_type": "code",
   "execution_count": 46,
   "metadata": {},
   "outputs": [
    {
     "data": {
      "text/html": [
       "<div>\n",
       "<style scoped>\n",
       "    .dataframe tbody tr th:only-of-type {\n",
       "        vertical-align: middle;\n",
       "    }\n",
       "\n",
       "    .dataframe tbody tr th {\n",
       "        vertical-align: top;\n",
       "    }\n",
       "\n",
       "    .dataframe thead th {\n",
       "        text-align: right;\n",
       "    }\n",
       "</style>\n",
       "<table border=\"1\" class=\"dataframe\">\n",
       "  <thead>\n",
       "    <tr style=\"text-align: right;\">\n",
       "      <th></th>\n",
       "      <th>topic_num</th>\n",
       "      <th>top_words</th>\n",
       "      <th>sample_texts</th>\n",
       "    </tr>\n",
       "  </thead>\n",
       "  <tbody>\n",
       "    <tr>\n",
       "      <th>0</th>\n",
       "      <td>0</td>\n",
       "      <td>[-PRON-, ., ,, !, thank, thank -PRON-, -PRON- ...</td>\n",
       "      <td>[Hi,\\nI see that we now have 11 templates for ...</td>\n",
       "    </tr>\n",
       "    <tr>\n",
       "      <th>1</th>\n",
       "      <td>1</td>\n",
       "      <td>[chris.allen@harvardbusiness.org, -, 617, 617 ...</td>\n",
       "      <td>[Hi - I want to get back to this. Is there ava...</td>\n",
       "    </tr>\n",
       "    <tr>\n",
       "      <th>2</th>\n",
       "      <td>2</td>\n",
       "      <td>[|, -, mathias, :, password, mathias j., 650, ...</td>\n",
       "      <td>[Were you successful with resetting the passwo...</td>\n",
       "    </tr>\n",
       "    <tr>\n",
       "      <th>3</th>\n",
       "      <td>3</td>\n",
       "      <td>[61 broadway suite, 448 - 3296, ) 448, 646 ) 4...</td>\n",
       "      <td>[Hello!\\nI wanted to follow up on this to see ...</td>\n",
       "    </tr>\n",
       "    <tr>\n",
       "      <th>4</th>\n",
       "      <td>4</td>\n",
       "      <td>[update ? thank, update ?, , naveen, naveen ko...</td>\n",
       "      <td>[Hi Andy,\\nI was wondering what we needed to d...</td>\n",
       "    </tr>\n",
       "    <tr>\n",
       "      <th>5</th>\n",
       "      <td>5</td>\n",
       "      <td>[|, :, intend, : +91, +91, #, information, int...</td>\n",
       "      <td>[Hi Owari,\\nYes we need to do the below operat...</td>\n",
       "    </tr>\n",
       "    <tr>\n",
       "      <th>6</th>\n",
       "      <td>6</td>\n",
       "      <td>[=, = =, http://www.quickbuyproperties.co.za/,...</td>\n",
       "      <td>[Dear Laura\\nSee the screenshots\\nThis from FB...</td>\n",
       "    </tr>\n",
       "    <tr>\n",
       "      <th>7</th>\n",
       "      <td>7</td>\n",
       "      <td>[-PRON-, -PRON- credit, credit, , -PRON-, arvi...</td>\n",
       "      <td>[Hello Arvind,\\nWe don't see the credit in the...</td>\n",
       "    </tr>\n",
       "    <tr>\n",
       "      <th>8</th>\n",
       "      <td>8</td>\n",
       "      <td>[thank update !, thank update, update !, updat...</td>\n",
       "      <td>[Hi Wes,\\nI just checked in with Bullhorn for ...</td>\n",
       "    </tr>\n",
       "    <tr>\n",
       "      <th>9</th>\n",
       "      <td>9</td>\n",
       "      <td>[\", -PRON-, ,, :, ), ., &gt;, ) :, -, zap]</td>\n",
       "      <td>[Dear Kaushi,\\nHope you are doing good.\\nI've ...</td>\n",
       "    </tr>\n",
       "  </tbody>\n",
       "</table>\n",
       "</div>"
      ],
      "text/plain": [
       "   topic_num                                          top_words  \\\n",
       "0          0  [-PRON-, ., ,, !, thank, thank -PRON-, -PRON- ...   \n",
       "1          1  [chris.allen@harvardbusiness.org, -, 617, 617 ...   \n",
       "2          2  [|, -, mathias, :, password, mathias j., 650, ...   \n",
       "3          3  [61 broadway suite, 448 - 3296, ) 448, 646 ) 4...   \n",
       "4          4  [update ? thank, update ?, , naveen, naveen ko...   \n",
       "5          5  [|, :, intend, : +91, +91, #, information, int...   \n",
       "6          6  [=, = =, http://www.quickbuyproperties.co.za/,...   \n",
       "7          7  [-PRON-, -PRON- credit, credit, , -PRON-, arvi...   \n",
       "8          8  [thank update !, thank update, update !, updat...   \n",
       "9          9            [\", -PRON-, ,, :, ), ., >, ) :, -, zap]   \n",
       "\n",
       "                                        sample_texts  \n",
       "0  [Hi,\\nI see that we now have 11 templates for ...  \n",
       "1  [Hi - I want to get back to this. Is there ava...  \n",
       "2  [Were you successful with resetting the passwo...  \n",
       "3  [Hello!\\nI wanted to follow up on this to see ...  \n",
       "4  [Hi Andy,\\nI was wondering what we needed to d...  \n",
       "5  [Hi Owari,\\nYes we need to do the below operat...  \n",
       "6  [Dear Laura\\nSee the screenshots\\nThis from FB...  \n",
       "7  [Hello Arvind,\\nWe don't see the credit in the...  \n",
       "8  [Hi Wes,\\nI just checked in with Bullhorn for ...  \n",
       "9  [Dear Kaushi,\\nHope you are doing good.\\nI've ...  "
      ]
     },
     "execution_count": 46,
     "metadata": {},
     "output_type": "execute_result"
    }
   ],
   "source": [
    "topic_words_df"
   ]
  },
  {
   "cell_type": "code",
   "execution_count": 47,
   "metadata": {},
   "outputs": [
    {
     "data": {
      "text/html": [
       "<div>\n",
       "<style scoped>\n",
       "    .dataframe tbody tr th:only-of-type {\n",
       "        vertical-align: middle;\n",
       "    }\n",
       "\n",
       "    .dataframe tbody tr th {\n",
       "        vertical-align: top;\n",
       "    }\n",
       "\n",
       "    .dataframe thead th {\n",
       "        text-align: right;\n",
       "    }\n",
       "</style>\n",
       "<table border=\"1\" class=\"dataframe\">\n",
       "  <thead>\n",
       "    <tr style=\"text-align: right;\">\n",
       "      <th></th>\n",
       "      <th>body</th>\n",
       "      <th>top_topic_num</th>\n",
       "    </tr>\n",
       "  </thead>\n",
       "  <tbody>\n",
       "    <tr>\n",
       "      <th>0</th>\n",
       "      <td>Hi,\\nI see that we now have 11 templates for P...</td>\n",
       "      <td>0</td>\n",
       "    </tr>\n",
       "    <tr>\n",
       "      <th>1</th>\n",
       "      <td>Hi Andy,\\nI was wondering what we needed to do...</td>\n",
       "      <td>4</td>\n",
       "    </tr>\n",
       "    <tr>\n",
       "      <th>2</th>\n",
       "      <td>Hi Nick!\\nIt´s me again! Hope you are very goo...</td>\n",
       "      <td>0</td>\n",
       "    </tr>\n",
       "    <tr>\n",
       "      <th>3</th>\n",
       "      <td>Hello,\\n \\nI hope you and your team are safe a...</td>\n",
       "      <td>0</td>\n",
       "    </tr>\n",
       "    <tr>\n",
       "      <th>4</th>\n",
       "      <td>Hi\\nWhen can I get the discount?\\n‫בתאריך יום ...</td>\n",
       "      <td>0</td>\n",
       "    </tr>\n",
       "    <tr>\n",
       "      <th>...</th>\n",
       "      <td>...</td>\n",
       "      <td>...</td>\n",
       "    </tr>\n",
       "    <tr>\n",
       "      <th>95</th>\n",
       "      <td>Lara,\\nNowhere in zoho does it have anything a...</td>\n",
       "      <td>0</td>\n",
       "    </tr>\n",
       "    <tr>\n",
       "      <th>96</th>\n",
       "      <td>yep we already sent a screenshot here it is ag...</td>\n",
       "      <td>0</td>\n",
       "    </tr>\n",
       "    <tr>\n",
       "      <th>97</th>\n",
       "      <td>ok just reconnected.\\nnot to add more to your ...</td>\n",
       "      <td>0</td>\n",
       "    </tr>\n",
       "    <tr>\n",
       "      <th>98</th>\n",
       "      <td>its lead status not lead source</td>\n",
       "      <td>0</td>\n",
       "    </tr>\n",
       "    <tr>\n",
       "      <th>99</th>\n",
       "      <td>workaround didn't work. typed not contacted in...</td>\n",
       "      <td>0</td>\n",
       "    </tr>\n",
       "  </tbody>\n",
       "</table>\n",
       "<p>100 rows × 2 columns</p>\n",
       "</div>"
      ],
      "text/plain": [
       "                                                 body  top_topic_num\n",
       "0   Hi,\\nI see that we now have 11 templates for P...              0\n",
       "1   Hi Andy,\\nI was wondering what we needed to do...              4\n",
       "2   Hi Nick!\\nIt´s me again! Hope you are very goo...              0\n",
       "3   Hello,\\n \\nI hope you and your team are safe a...              0\n",
       "4   Hi\\nWhen can I get the discount?\\n‫בתאריך יום ...              0\n",
       "..                                                ...            ...\n",
       "95  Lara,\\nNowhere in zoho does it have anything a...              0\n",
       "96  yep we already sent a screenshot here it is ag...              0\n",
       "97  ok just reconnected.\\nnot to add more to your ...              0\n",
       "98                    its lead status not lead source              0\n",
       "99  workaround didn't work. typed not contacted in...              0\n",
       "\n",
       "[100 rows x 2 columns]"
      ]
     },
     "execution_count": 47,
     "metadata": {},
     "output_type": "execute_result"
    }
   ],
   "source": [
    "combined_df[['body', \"top_topic_num\"]]"
   ]
  },
  {
   "cell_type": "code",
   "execution_count": 48,
   "metadata": {},
   "outputs": [
    {
     "name": "stdout",
     "output_type": "stream",
     "text": [
      "Group Name: 0\n",
      "\n",
      "pellcomp uk 6\n",
      "let know 5\n",
      "zapier com 5\n",
      "https zapier com 4\n",
      "https zapier 4\n",
      "jira issue 4\n",
      "com app editor 3\n",
      "peter adams 3\n",
      "peter adams peter 3\n",
      "peter pellcomp 3\n",
      "\n",
      "~~~~~~~~~~~~~~~~~~~~~~~~~~~~~\n",
      "\n",
      "Group Name: 9\n",
      "\n",
      "zapier com 15\n",
      "com app 8\n",
      "https zapier 8\n",
      "https zapier com 8\n",
      "zapier com app 8\n",
      "com app editor 6\n",
      "app editor 6\n",
      "zap https 3\n",
      "zap https zapier 3\n",
      "contact zapier 3\n",
      "\n",
      "~~~~~~~~~~~~~~~~~~~~~~~~~~~~~\n",
      "\n",
      "Group Name: 2\n",
      "\n",
      "com mobile 650 6\n",
      "passbase email mathias 6\n",
      "passbase email 6\n",
      "founder passbase email 6\n",
      "klenk founder passbase 6\n",
      "passbase com mobile 6\n",
      "passbase com 6\n",
      "650 440 6\n",
      "mobile 650 440 6\n",
      "website blog twitter 6\n",
      "\n",
      "~~~~~~~~~~~~~~~~~~~~~~~~~~~~~\n",
      "\n",
      "Group Name: 4\n",
      "\n",
      "thanks naveen koka 3\n",
      "naveen koka 3\n",
      "thanks naveen 3\n",
      "update issue 1\n",
      "megapolis sohna 0\n",
      "megapolis sohna road 0\n",
      "messaging platform 0\n",
      "messaging platform helps 0\n",
      "mobile 650 0\n",
      "mobile 650 440 0\n",
      "\n",
      "~~~~~~~~~~~~~~~~~~~~~~~~~~~~~\n",
      "\n",
      "Group Name: 1\n",
      "\n",
      "chris allen 20\n",
      "allen harvardbusiness org 15\n",
      "allen harvardbusiness 15\n",
      "chris allen harvardbusiness 15\n",
      "harvardbusiness org 15\n",
      "org chris allen 10\n",
      "org chris 10\n",
      "harvardbusiness org chris 10\n",
      "manager employee 5\n",
      "783 6100 office 5\n",
      "\n",
      "~~~~~~~~~~~~~~~~~~~~~~~~~~~~~\n",
      "\n",
      "Group Name: 5\n",
      "\n",
      "intended recipient 6\n",
      "dynamicssquare com 4\n",
      "124 455 4\n",
      "nishant kumar 4\n",
      "91 124 4\n",
      "91 124 455 4\n",
      "http www 3\n",
      "best regards 3\n",
      "confidential privileged 3\n",
      "com http 2\n",
      "\n",
      "~~~~~~~~~~~~~~~~~~~~~~~~~~~~~\n",
      "\n",
      "Group Name: 3\n",
      "\n",
      "beth bersson 6\n",
      "manager furthered 3\n",
      "61 broadway suite 3\n",
      "beth bersson furthered 3\n",
      "furthered com 646 3\n",
      "furthered com 3\n",
      "furthered 61 broadway 3\n",
      "furthered 61 3\n",
      "beth bersson accreditation 3\n",
      "bersson furthered com 3\n",
      "\n",
      "~~~~~~~~~~~~~~~~~~~~~~~~~~~~~\n",
      "\n",
      "Group Name: 7\n",
      "\n",
      "ve cc email 2\n",
      "week client 2\n",
      "ve cc 2\n",
      "know delay 2\n",
      "know delay thank 2\n",
      "account week client 2\n",
      "account week 2\n",
      "email let know 2\n",
      "email let 2\n",
      "arvind don 2\n",
      "\n",
      "~~~~~~~~~~~~~~~~~~~~~~~~~~~~~\n",
      "\n",
      "Group Name: 8\n",
      "\n",
      "joco comhttp www 2\n",
      "acquisition consultant 2\n",
      "shellman joco comhttp 2\n",
      "thanks update 2\n",
      "consultant joco 918 2\n",
      "consultant joco 2\n",
      "984 9210 shellman 2\n",
      "984 9210 2\n",
      "www joco 2\n",
      "www joco com 2\n",
      "\n",
      "~~~~~~~~~~~~~~~~~~~~~~~~~~~~~\n",
      "\n",
      "Group Name: 6\n",
      "\n",
      "quickbuyproperties za 6\n",
      "http www quickbuyproperties 4\n",
      "http www 4\n",
      "www quickbuyproperties 4\n",
      "www quickbuyproperties za 4\n",
      "010 9000 2\n",
      "quickbuyproperties za need 2\n",
      "quick buy properties 2\n",
      "quick buy 2\n",
      "fees save 2\n",
      "\n",
      "~~~~~~~~~~~~~~~~~~~~~~~~~~~~~\n",
      "\n"
     ]
    },
    {
     "data": {
      "text/html": [
       "<div>\n",
       "<style scoped>\n",
       "    .dataframe tbody tr th:only-of-type {\n",
       "        vertical-align: middle;\n",
       "    }\n",
       "\n",
       "    .dataframe tbody tr th {\n",
       "        vertical-align: top;\n",
       "    }\n",
       "\n",
       "    .dataframe thead th {\n",
       "        text-align: right;\n",
       "    }\n",
       "</style>\n",
       "<table border=\"1\" class=\"dataframe\">\n",
       "  <thead>\n",
       "    <tr style=\"text-align: right;\">\n",
       "      <th></th>\n",
       "      <th>group_name</th>\n",
       "      <th>top_words_and_counts</th>\n",
       "    </tr>\n",
       "  </thead>\n",
       "  <tbody>\n",
       "    <tr>\n",
       "      <th>0</th>\n",
       "      <td>0</td>\n",
       "      <td>{'pellcomp uk': 6, 'let know': 5, 'zapier com'...</td>\n",
       "    </tr>\n",
       "    <tr>\n",
       "      <th>0</th>\n",
       "      <td>9</td>\n",
       "      <td>{'zapier com': 15, 'com app': 8, 'https zapier...</td>\n",
       "    </tr>\n",
       "    <tr>\n",
       "      <th>0</th>\n",
       "      <td>2</td>\n",
       "      <td>{'com mobile 650': 6, 'passbase email mathias'...</td>\n",
       "    </tr>\n",
       "    <tr>\n",
       "      <th>0</th>\n",
       "      <td>4</td>\n",
       "      <td>{'thanks naveen koka': 3, 'naveen koka': 3, 't...</td>\n",
       "    </tr>\n",
       "    <tr>\n",
       "      <th>0</th>\n",
       "      <td>1</td>\n",
       "      <td>{'chris allen': 20, 'allen harvardbusiness org...</td>\n",
       "    </tr>\n",
       "    <tr>\n",
       "      <th>0</th>\n",
       "      <td>5</td>\n",
       "      <td>{'intended recipient': 6, 'dynamicssquare com'...</td>\n",
       "    </tr>\n",
       "    <tr>\n",
       "      <th>0</th>\n",
       "      <td>3</td>\n",
       "      <td>{'beth bersson': 6, 'manager furthered': 3, '6...</td>\n",
       "    </tr>\n",
       "    <tr>\n",
       "      <th>0</th>\n",
       "      <td>7</td>\n",
       "      <td>{'ve cc email': 2, 'week client': 2, 've cc': ...</td>\n",
       "    </tr>\n",
       "    <tr>\n",
       "      <th>0</th>\n",
       "      <td>8</td>\n",
       "      <td>{'joco comhttp www': 2, 'acquisition consultan...</td>\n",
       "    </tr>\n",
       "    <tr>\n",
       "      <th>0</th>\n",
       "      <td>6</td>\n",
       "      <td>{'quickbuyproperties za': 6, 'http www quickbu...</td>\n",
       "    </tr>\n",
       "  </tbody>\n",
       "</table>\n",
       "</div>"
      ],
      "text/plain": [
       "  group_name                               top_words_and_counts\n",
       "0          0  {'pellcomp uk': 6, 'let know': 5, 'zapier com'...\n",
       "0          9  {'zapier com': 15, 'com app': 8, 'https zapier...\n",
       "0          2  {'com mobile 650': 6, 'passbase email mathias'...\n",
       "0          4  {'thanks naveen koka': 3, 'naveen koka': 3, 't...\n",
       "0          1  {'chris allen': 20, 'allen harvardbusiness org...\n",
       "0          5  {'intended recipient': 6, 'dynamicssquare com'...\n",
       "0          3  {'beth bersson': 6, 'manager furthered': 3, '6...\n",
       "0          7  {'ve cc email': 2, 'week client': 2, 've cc': ...\n",
       "0          8  {'joco comhttp www': 2, 'acquisition consultan...\n",
       "0          6  {'quickbuyproperties za': 6, 'http www quickbu..."
      ]
     },
     "execution_count": 48,
     "metadata": {},
     "output_type": "execute_result"
    }
   ],
   "source": [
    "mr.most_common_words_by_group(combined_df, 'body', 'top_topic_num', 10, 2, 2)"
   ]
  },
  {
   "cell_type": "markdown",
   "metadata": {},
   "source": [
    "## Experiments"
   ]
  },
  {
   "cell_type": "code",
   "execution_count": 49,
   "metadata": {},
   "outputs": [],
   "source": [
    "e = dt.Experiments()"
   ]
  },
  {
   "cell_type": "code",
   "execution_count": 50,
   "metadata": {},
   "outputs": [
    {
     "data": {
      "text/plain": [
       "'control'"
      ]
     },
     "execution_count": 50,
     "metadata": {},
     "output_type": "execute_result"
    }
   ],
   "source": [
    "e.assign_condition_by_id(123432, np.array(['treatment', 'control']), np.array([0.5, 0.5]), 24)"
   ]
  },
  {
   "cell_type": "code",
   "execution_count": 51,
   "metadata": {},
   "outputs": [
    {
     "data": {
      "text/plain": [
       "'control'"
      ]
     },
     "execution_count": 51,
     "metadata": {},
     "output_type": "execute_result"
    }
   ],
   "source": [
    "e.assign_condition_by_id(123432, np.array(['treatment', 'control']), np.array([0.5, 0.5]), 24)"
   ]
  },
  {
   "cell_type": "code",
   "execution_count": 52,
   "metadata": {},
   "outputs": [
    {
     "data": {
      "text/plain": [
       "'control'"
      ]
     },
     "execution_count": 52,
     "metadata": {},
     "output_type": "execute_result"
    }
   ],
   "source": [
    "e.assign_condition_by_id(123432, np.array(['treatment', 'control']), np.array([0.5, 0.5]), 24)"
   ]
  },
  {
   "cell_type": "markdown",
   "metadata": {},
   "source": [
    "Note that the same id always gets assigned to the same condition"
   ]
  },
  {
   "cell_type": "code",
   "execution_count": 53,
   "metadata": {},
   "outputs": [
    {
     "data": {
      "text/plain": [
       "'control'"
      ]
     },
     "execution_count": 53,
     "metadata": {},
     "output_type": "execute_result"
    }
   ],
   "source": [
    "e.assign_condition_by_id(123432, np.array(['treatment', 'control']), np.array([0.5, 0.5]), 24)"
   ]
  },
  {
   "cell_type": "code",
   "execution_count": 54,
   "metadata": {},
   "outputs": [
    {
     "data": {
      "text/plain": [
       "'treatment'"
      ]
     },
     "execution_count": 54,
     "metadata": {},
     "output_type": "execute_result"
    }
   ],
   "source": [
    "e.assign_condition_by_id(1424125, np.array(['treatment', 'control']), np.array([0.5, 0.5]), 24)"
   ]
  },
  {
   "cell_type": "code",
   "execution_count": 55,
   "metadata": {},
   "outputs": [
    {
     "data": {
      "text/plain": [
       "'treatment'"
      ]
     },
     "execution_count": 55,
     "metadata": {},
     "output_type": "execute_result"
    }
   ],
   "source": [
    "e.assign_condition_by_id(1424125, np.array(['treatment', 'control']), np.array([0.5, 0.5]), 24)"
   ]
  },
  {
   "cell_type": "code",
   "execution_count": 56,
   "metadata": {},
   "outputs": [
    {
     "data": {
      "text/plain": [
       "'treatment'"
      ]
     },
     "execution_count": 56,
     "metadata": {},
     "output_type": "execute_result"
    }
   ],
   "source": [
    "e.assign_condition_by_id(1424125, np.array(['treatment', 'control']), np.array([0.5, 0.5]), 24)"
   ]
  },
  {
   "cell_type": "code",
   "execution_count": null,
   "metadata": {},
   "outputs": [],
   "source": []
  }
 ],
 "metadata": {
  "kernelspec": {
   "display_name": "Python 3.7.5 64-bit ('mlrecommendations': venv)",
   "language": "python",
   "name": "python37564bitmlrecommendationsvenv22ec15cb06a741d9874c8ae5c8d4f0c8"
  },
  "language_info": {
   "codemirror_mode": {
    "name": "ipython",
    "version": 3
   },
   "file_extension": ".py",
   "mimetype": "text/x-python",
   "name": "python",
   "nbconvert_exporter": "python",
   "pygments_lexer": "ipython3",
   "version": "3.7.5"
  }
 },
 "nbformat": 4,
 "nbformat_minor": 4
}
