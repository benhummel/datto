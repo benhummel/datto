{
 "cells": [
  {
   "cell_type": "markdown",
   "metadata": {},
   "source": [
    "This notebook uses the [Titanic dataset from Kaggle](https://www.kaggle.com/c/titanic/data?select=train.csv)."
   ]
  },
  {
   "cell_type": "code",
   "execution_count": 92,
   "metadata": {},
   "outputs": [],
   "source": [
    "import datto as dt\n",
    "import pandas as pd\n",
    "from sklearn.model_selection import train_test_split\n",
    "from sklearn.pipeline import Pipeline\n",
    "from sklearn.linear_model import LogisticRegression\n",
    "from IPython.core.display import HTML, display\n",
    "from sklearn.tree import DecisionTreeClassifier"
   ]
  },
  {
   "cell_type": "code",
   "execution_count": 5,
   "metadata": {},
   "outputs": [],
   "source": [
    "df = pd.read_csv('titanic.csv')"
   ]
  },
  {
   "cell_type": "code",
   "execution_count": 6,
   "metadata": {},
   "outputs": [
    {
     "data": {
      "text/html": [
       "<div>\n",
       "<style scoped>\n",
       "    .dataframe tbody tr th:only-of-type {\n",
       "        vertical-align: middle;\n",
       "    }\n",
       "\n",
       "    .dataframe tbody tr th {\n",
       "        vertical-align: top;\n",
       "    }\n",
       "\n",
       "    .dataframe thead th {\n",
       "        text-align: right;\n",
       "    }\n",
       "</style>\n",
       "<table border=\"1\" class=\"dataframe\">\n",
       "  <thead>\n",
       "    <tr style=\"text-align: right;\">\n",
       "      <th></th>\n",
       "      <th>PassengerId</th>\n",
       "      <th>Survived</th>\n",
       "      <th>Pclass</th>\n",
       "      <th>Name</th>\n",
       "      <th>Sex</th>\n",
       "      <th>Age</th>\n",
       "      <th>SibSp</th>\n",
       "      <th>Parch</th>\n",
       "      <th>Ticket</th>\n",
       "      <th>Fare</th>\n",
       "      <th>Cabin</th>\n",
       "      <th>Embarked</th>\n",
       "    </tr>\n",
       "  </thead>\n",
       "  <tbody>\n",
       "    <tr>\n",
       "      <th>0</th>\n",
       "      <td>1</td>\n",
       "      <td>0</td>\n",
       "      <td>3</td>\n",
       "      <td>Braund, Mr. Owen Harris</td>\n",
       "      <td>male</td>\n",
       "      <td>22.0</td>\n",
       "      <td>1</td>\n",
       "      <td>0</td>\n",
       "      <td>A/5 21171</td>\n",
       "      <td>7.2500</td>\n",
       "      <td>NaN</td>\n",
       "      <td>S</td>\n",
       "    </tr>\n",
       "    <tr>\n",
       "      <th>1</th>\n",
       "      <td>2</td>\n",
       "      <td>1</td>\n",
       "      <td>1</td>\n",
       "      <td>Cumings, Mrs. John Bradley (Florence Briggs Th...</td>\n",
       "      <td>female</td>\n",
       "      <td>38.0</td>\n",
       "      <td>1</td>\n",
       "      <td>0</td>\n",
       "      <td>PC 17599</td>\n",
       "      <td>71.2833</td>\n",
       "      <td>C85</td>\n",
       "      <td>C</td>\n",
       "    </tr>\n",
       "    <tr>\n",
       "      <th>2</th>\n",
       "      <td>3</td>\n",
       "      <td>1</td>\n",
       "      <td>3</td>\n",
       "      <td>Heikkinen, Miss. Laina</td>\n",
       "      <td>female</td>\n",
       "      <td>26.0</td>\n",
       "      <td>0</td>\n",
       "      <td>0</td>\n",
       "      <td>STON/O2. 3101282</td>\n",
       "      <td>7.9250</td>\n",
       "      <td>NaN</td>\n",
       "      <td>S</td>\n",
       "    </tr>\n",
       "    <tr>\n",
       "      <th>3</th>\n",
       "      <td>4</td>\n",
       "      <td>1</td>\n",
       "      <td>1</td>\n",
       "      <td>Futrelle, Mrs. Jacques Heath (Lily May Peel)</td>\n",
       "      <td>female</td>\n",
       "      <td>35.0</td>\n",
       "      <td>1</td>\n",
       "      <td>0</td>\n",
       "      <td>113803</td>\n",
       "      <td>53.1000</td>\n",
       "      <td>C123</td>\n",
       "      <td>S</td>\n",
       "    </tr>\n",
       "    <tr>\n",
       "      <th>4</th>\n",
       "      <td>5</td>\n",
       "      <td>0</td>\n",
       "      <td>3</td>\n",
       "      <td>Allen, Mr. William Henry</td>\n",
       "      <td>male</td>\n",
       "      <td>35.0</td>\n",
       "      <td>0</td>\n",
       "      <td>0</td>\n",
       "      <td>373450</td>\n",
       "      <td>8.0500</td>\n",
       "      <td>NaN</td>\n",
       "      <td>S</td>\n",
       "    </tr>\n",
       "    <tr>\n",
       "      <th>...</th>\n",
       "      <td>...</td>\n",
       "      <td>...</td>\n",
       "      <td>...</td>\n",
       "      <td>...</td>\n",
       "      <td>...</td>\n",
       "      <td>...</td>\n",
       "      <td>...</td>\n",
       "      <td>...</td>\n",
       "      <td>...</td>\n",
       "      <td>...</td>\n",
       "      <td>...</td>\n",
       "      <td>...</td>\n",
       "    </tr>\n",
       "    <tr>\n",
       "      <th>886</th>\n",
       "      <td>887</td>\n",
       "      <td>0</td>\n",
       "      <td>2</td>\n",
       "      <td>Montvila, Rev. Juozas</td>\n",
       "      <td>male</td>\n",
       "      <td>27.0</td>\n",
       "      <td>0</td>\n",
       "      <td>0</td>\n",
       "      <td>211536</td>\n",
       "      <td>13.0000</td>\n",
       "      <td>NaN</td>\n",
       "      <td>S</td>\n",
       "    </tr>\n",
       "    <tr>\n",
       "      <th>887</th>\n",
       "      <td>888</td>\n",
       "      <td>1</td>\n",
       "      <td>1</td>\n",
       "      <td>Graham, Miss. Margaret Edith</td>\n",
       "      <td>female</td>\n",
       "      <td>19.0</td>\n",
       "      <td>0</td>\n",
       "      <td>0</td>\n",
       "      <td>112053</td>\n",
       "      <td>30.0000</td>\n",
       "      <td>B42</td>\n",
       "      <td>S</td>\n",
       "    </tr>\n",
       "    <tr>\n",
       "      <th>888</th>\n",
       "      <td>889</td>\n",
       "      <td>0</td>\n",
       "      <td>3</td>\n",
       "      <td>Johnston, Miss. Catherine Helen \"Carrie\"</td>\n",
       "      <td>female</td>\n",
       "      <td>NaN</td>\n",
       "      <td>1</td>\n",
       "      <td>2</td>\n",
       "      <td>W./C. 6607</td>\n",
       "      <td>23.4500</td>\n",
       "      <td>NaN</td>\n",
       "      <td>S</td>\n",
       "    </tr>\n",
       "    <tr>\n",
       "      <th>889</th>\n",
       "      <td>890</td>\n",
       "      <td>1</td>\n",
       "      <td>1</td>\n",
       "      <td>Behr, Mr. Karl Howell</td>\n",
       "      <td>male</td>\n",
       "      <td>26.0</td>\n",
       "      <td>0</td>\n",
       "      <td>0</td>\n",
       "      <td>111369</td>\n",
       "      <td>30.0000</td>\n",
       "      <td>C148</td>\n",
       "      <td>C</td>\n",
       "    </tr>\n",
       "    <tr>\n",
       "      <th>890</th>\n",
       "      <td>891</td>\n",
       "      <td>0</td>\n",
       "      <td>3</td>\n",
       "      <td>Dooley, Mr. Patrick</td>\n",
       "      <td>male</td>\n",
       "      <td>32.0</td>\n",
       "      <td>0</td>\n",
       "      <td>0</td>\n",
       "      <td>370376</td>\n",
       "      <td>7.7500</td>\n",
       "      <td>NaN</td>\n",
       "      <td>Q</td>\n",
       "    </tr>\n",
       "  </tbody>\n",
       "</table>\n",
       "<p>891 rows × 12 columns</p>\n",
       "</div>"
      ],
      "text/plain": [
       "     PassengerId  Survived  Pclass  \\\n",
       "0              1         0       3   \n",
       "1              2         1       1   \n",
       "2              3         1       3   \n",
       "3              4         1       1   \n",
       "4              5         0       3   \n",
       "..           ...       ...     ...   \n",
       "886          887         0       2   \n",
       "887          888         1       1   \n",
       "888          889         0       3   \n",
       "889          890         1       1   \n",
       "890          891         0       3   \n",
       "\n",
       "                                                  Name     Sex   Age  SibSp  \\\n",
       "0                              Braund, Mr. Owen Harris    male  22.0      1   \n",
       "1    Cumings, Mrs. John Bradley (Florence Briggs Th...  female  38.0      1   \n",
       "2                               Heikkinen, Miss. Laina  female  26.0      0   \n",
       "3         Futrelle, Mrs. Jacques Heath (Lily May Peel)  female  35.0      1   \n",
       "4                             Allen, Mr. William Henry    male  35.0      0   \n",
       "..                                                 ...     ...   ...    ...   \n",
       "886                              Montvila, Rev. Juozas    male  27.0      0   \n",
       "887                       Graham, Miss. Margaret Edith  female  19.0      0   \n",
       "888           Johnston, Miss. Catherine Helen \"Carrie\"  female   NaN      1   \n",
       "889                              Behr, Mr. Karl Howell    male  26.0      0   \n",
       "890                                Dooley, Mr. Patrick    male  32.0      0   \n",
       "\n",
       "     Parch            Ticket     Fare Cabin Embarked  \n",
       "0        0         A/5 21171   7.2500   NaN        S  \n",
       "1        0          PC 17599  71.2833   C85        C  \n",
       "2        0  STON/O2. 3101282   7.9250   NaN        S  \n",
       "3        0            113803  53.1000  C123        S  \n",
       "4        0            373450   8.0500   NaN        S  \n",
       "..     ...               ...      ...   ...      ...  \n",
       "886      0            211536  13.0000   NaN        S  \n",
       "887      0            112053  30.0000   B42        S  \n",
       "888      2        W./C. 6607  23.4500   NaN        S  \n",
       "889      0            111369  30.0000  C148        C  \n",
       "890      0            370376   7.7500   NaN        Q  \n",
       "\n",
       "[891 rows x 12 columns]"
      ]
     },
     "execution_count": 6,
     "metadata": {},
     "output_type": "execute_result"
    }
   ],
   "source": [
    "df"
   ]
  },
  {
   "cell_type": "code",
   "execution_count": 7,
   "metadata": {},
   "outputs": [],
   "source": [
    "eda = dt.Eda()"
   ]
  },
  {
   "cell_type": "code",
   "execution_count": 8,
   "metadata": {
    "scrolled": true
   },
   "outputs": [
    {
     "name": "stdout",
     "output_type": "stream",
     "text": [
      "PassengerId\n",
      "[ 1  2  3  4  5  6  7  8  9 10 11 12 13 14 15 16 17 18 19 20]\n",
      "891\n",
      "\n",
      "------------------------------------\n",
      "\n",
      "Survived\n",
      "[0 1]\n",
      "2\n",
      "\n",
      "------------------------------------\n",
      "\n",
      "Pclass\n",
      "[3 1 2]\n",
      "3\n",
      "\n",
      "------------------------------------\n",
      "\n",
      "Name\n",
      "['Braund, Mr. Owen Harris'\n",
      " 'Cumings, Mrs. John Bradley (Florence Briggs Thayer)'\n",
      " 'Heikkinen, Miss. Laina' 'Futrelle, Mrs. Jacques Heath (Lily May Peel)'\n",
      " 'Allen, Mr. William Henry' 'Moran, Mr. James' 'McCarthy, Mr. Timothy J'\n",
      " 'Palsson, Master. Gosta Leonard'\n",
      " 'Johnson, Mrs. Oscar W (Elisabeth Vilhelmina Berg)'\n",
      " 'Nasser, Mrs. Nicholas (Adele Achem)' 'Sandstrom, Miss. Marguerite Rut'\n",
      " 'Bonnell, Miss. Elizabeth' 'Saundercock, Mr. William Henry'\n",
      " 'Andersson, Mr. Anders Johan' 'Vestrom, Miss. Hulda Amanda Adolfina'\n",
      " 'Hewlett, Mrs. (Mary D Kingcome) ' 'Rice, Master. Eugene'\n",
      " 'Williams, Mr. Charles Eugene'\n",
      " 'Vander Planke, Mrs. Julius (Emelia Maria Vandemoortele)'\n",
      " 'Masselmani, Mrs. Fatima']\n",
      "891\n",
      "\n",
      "------------------------------------\n",
      "\n",
      "Sex\n",
      "['male' 'female']\n",
      "2\n",
      "\n",
      "------------------------------------\n",
      "\n",
      "Age\n",
      "[22. 38. 26. 35. nan 54.  2. 27. 14.  4. 58. 20. 39. 55. 31. 34. 15. 28.\n",
      "  8. 19.]\n",
      "88\n",
      "\n",
      "------------------------------------\n",
      "\n",
      "SibSp\n",
      "[1 0 3 4 2 5 8]\n",
      "7\n",
      "\n",
      "------------------------------------\n",
      "\n",
      "Parch\n",
      "[0 1 2 5 3 4 6]\n",
      "7\n",
      "\n",
      "------------------------------------\n",
      "\n",
      "Ticket\n",
      "['A/5 21171' 'PC 17599' 'STON/O2. 3101282' '113803' '373450' '330877'\n",
      " '17463' '349909' '347742' '237736' 'PP 9549' '113783' 'A/5. 2151'\n",
      " '347082' '350406' '248706' '382652' '244373' '345763' '2649']\n",
      "681\n",
      "\n",
      "------------------------------------\n",
      "\n",
      "Fare\n",
      "[ 7.25   71.2833  7.925  53.1     8.05    8.4583 51.8625 21.075  11.1333\n",
      " 30.0708 16.7    26.55   31.275   7.8542 16.     29.125  13.     18.\n",
      "  7.225  26.    ]\n",
      "248\n",
      "\n",
      "------------------------------------\n",
      "\n",
      "Cabin\n",
      "[nan 'C85' 'C123' 'E46' 'G6' 'C103' 'D56' 'A6' 'C23 C25 C27' 'B78' 'D33'\n",
      " 'B30' 'C52' 'B28' 'C83' 'F33' 'F G73' 'E31' 'A5' 'D10 D12']\n",
      "147\n",
      "\n",
      "------------------------------------\n",
      "\n",
      "Embarked\n",
      "['S' 'C' 'Q' nan]\n",
      "3\n",
      "\n",
      "------------------------------------\n",
      "\n"
     ]
    }
   ],
   "source": [
    "eda.sample_unique_vals(df)"
   ]
  },
  {
   "cell_type": "code",
   "execution_count": 9,
   "metadata": {},
   "outputs": [
    {
     "name": "stdout",
     "output_type": "stream",
     "text": [
      "{'Name': 'Considering excluding because object column has large number of unique values (891)'}\n",
      "{'Ticket': 'Considering excluding because object column has large number of unique values (681)'}\n",
      "{'Cabin': 'Considering excluding because 77.10437710437711% of column is null.'}\n"
     ]
    },
    {
     "data": {
      "text/plain": [
       "[{'Name': 'Considering excluding because object column has large number of unique values (891)'},\n",
       " {'Ticket': 'Considering excluding because object column has large number of unique values (681)'},\n",
       " {'Cabin': 'Considering excluding because 77.10437710437711% of column is null.'}]"
      ]
     },
     "execution_count": 9,
     "metadata": {},
     "output_type": "execute_result"
    }
   ],
   "source": [
    "eda.find_cols_to_exclude(df)"
   ]
  },
  {
   "cell_type": "code",
   "execution_count": 10,
   "metadata": {
    "scrolled": true
   },
   "outputs": [
    {
     "name": "stdout",
     "output_type": "stream",
     "text": [
      "Fare         Pclass         0.549500\n",
      "Pclass       Fare           0.549500\n",
      "SibSp        Parch          0.414838\n",
      "Parch        SibSp          0.414838\n",
      "Age          Pclass         0.369226\n",
      "Pclass       Age            0.369226\n",
      "Survived     Pclass         0.338481\n",
      "Pclass       Survived       0.338481\n",
      "Age          SibSp          0.308247\n",
      "SibSp        Age            0.308247\n",
      "Fare         Survived       0.257307\n",
      "Survived     Fare           0.257307\n",
      "Fare         Parch          0.216225\n",
      "Parch        Fare           0.216225\n",
      "             Age            0.189119\n",
      "Age          Parch          0.189119\n",
      "Fare         SibSp          0.159651\n",
      "SibSp        Fare           0.159651\n",
      "Age          Fare           0.096067\n",
      "Fare         Age            0.096067\n",
      "SibSp        Pclass         0.083081\n",
      "Pclass       SibSp          0.083081\n",
      "Parch        Survived       0.081629\n",
      "Survived     Parch          0.081629\n",
      "Age          Survived       0.077221\n",
      "Survived     Age            0.077221\n",
      "SibSp        PassengerId    0.057527\n",
      "PassengerId  SibSp          0.057527\n",
      "             Age            0.036847\n",
      "Age          PassengerId    0.036847\n",
      "Survived     SibSp          0.035322\n",
      "SibSp        Survived       0.035322\n",
      "Pclass       PassengerId    0.035144\n",
      "PassengerId  Pclass         0.035144\n",
      "Pclass       Parch          0.018443\n",
      "Parch        Pclass         0.018443\n",
      "Fare         PassengerId    0.012658\n",
      "PassengerId  Fare           0.012658\n",
      "Survived     PassengerId    0.005007\n",
      "PassengerId  Survived       0.005007\n",
      "             Parch          0.001652\n",
      "Parch        PassengerId    0.001652\n",
      "dtype: float64\n"
     ]
    },
    {
     "data": {
      "text/plain": [
       "Fare         Pclass         0.549500\n",
       "Pclass       Fare           0.549500\n",
       "SibSp        Parch          0.414838\n",
       "Parch        SibSp          0.414838\n",
       "Age          Pclass         0.369226\n",
       "Pclass       Age            0.369226\n",
       "Survived     Pclass         0.338481\n",
       "Pclass       Survived       0.338481\n",
       "Age          SibSp          0.308247\n",
       "SibSp        Age            0.308247\n",
       "Fare         Survived       0.257307\n",
       "Survived     Fare           0.257307\n",
       "Fare         Parch          0.216225\n",
       "Parch        Fare           0.216225\n",
       "             Age            0.189119\n",
       "Age          Parch          0.189119\n",
       "Fare         SibSp          0.159651\n",
       "SibSp        Fare           0.159651\n",
       "Age          Fare           0.096067\n",
       "Fare         Age            0.096067\n",
       "SibSp        Pclass         0.083081\n",
       "Pclass       SibSp          0.083081\n",
       "Parch        Survived       0.081629\n",
       "Survived     Parch          0.081629\n",
       "Age          Survived       0.077221\n",
       "Survived     Age            0.077221\n",
       "SibSp        PassengerId    0.057527\n",
       "PassengerId  SibSp          0.057527\n",
       "             Age            0.036847\n",
       "Age          PassengerId    0.036847\n",
       "Survived     SibSp          0.035322\n",
       "SibSp        Survived       0.035322\n",
       "Pclass       PassengerId    0.035144\n",
       "PassengerId  Pclass         0.035144\n",
       "Pclass       Parch          0.018443\n",
       "Parch        Pclass         0.018443\n",
       "Fare         PassengerId    0.012658\n",
       "PassengerId  Fare           0.012658\n",
       "Survived     PassengerId    0.005007\n",
       "PassengerId  Survived       0.005007\n",
       "             Parch          0.001652\n",
       "Parch        PassengerId    0.001652\n",
       "dtype: float64"
      ]
     },
     "execution_count": 10,
     "metadata": {},
     "output_type": "execute_result"
    }
   ],
   "source": [
    "eda.find_correlated_features(df)"
   ]
  },
  {
   "cell_type": "code",
   "execution_count": 13,
   "metadata": {},
   "outputs": [],
   "source": [
    "ct = dt.CleanText()"
   ]
  },
  {
   "cell_type": "code",
   "execution_count": 11,
   "metadata": {},
   "outputs": [
    {
     "name": "stdout",
     "output_type": "stream",
     "text": [
      "<class 'pandas.core.frame.DataFrame'>\n",
      "RangeIndex: 891 entries, 0 to 890\n",
      "Data columns (total 12 columns):\n",
      " #   Column       Non-Null Count  Dtype  \n",
      "---  ------       --------------  -----  \n",
      " 0   PassengerId  891 non-null    int64  \n",
      " 1   Survived     891 non-null    int64  \n",
      " 2   Pclass       891 non-null    int64  \n",
      " 3   Name         891 non-null    object \n",
      " 4   Sex          891 non-null    object \n",
      " 5   Age          714 non-null    float64\n",
      " 6   SibSp        891 non-null    int64  \n",
      " 7   Parch        891 non-null    int64  \n",
      " 8   Ticket       891 non-null    object \n",
      " 9   Fare         891 non-null    float64\n",
      " 10  Cabin        204 non-null    object \n",
      " 11  Embarked     889 non-null    object \n",
      "dtypes: float64(2), int64(5), object(5)\n",
      "memory usage: 83.7+ KB\n"
     ]
    }
   ],
   "source": [
    "df.info()"
   ]
  },
  {
   "cell_type": "code",
   "execution_count": 15,
   "metadata": {},
   "outputs": [],
   "source": [
    "df = ct.fix_col_data_type(df, 'Pclass', 'str')"
   ]
  },
  {
   "cell_type": "code",
   "execution_count": 16,
   "metadata": {},
   "outputs": [
    {
     "name": "stdout",
     "output_type": "stream",
     "text": [
      "<class 'pandas.core.frame.DataFrame'>\n",
      "RangeIndex: 891 entries, 0 to 890\n",
      "Data columns (total 12 columns):\n",
      " #   Column       Non-Null Count  Dtype  \n",
      "---  ------       --------------  -----  \n",
      " 0   PassengerId  891 non-null    int64  \n",
      " 1   Survived     891 non-null    int64  \n",
      " 2   Pclass       891 non-null    object \n",
      " 3   Name         891 non-null    object \n",
      " 4   Sex          891 non-null    object \n",
      " 5   Age          714 non-null    float64\n",
      " 6   SibSp        891 non-null    int64  \n",
      " 7   Parch        891 non-null    int64  \n",
      " 8   Ticket       891 non-null    object \n",
      " 9   Fare         891 non-null    float64\n",
      " 10  Cabin        204 non-null    object \n",
      " 11  Embarked     889 non-null    object \n",
      "dtypes: float64(2), int64(4), object(6)\n",
      "memory usage: 83.7+ KB\n"
     ]
    }
   ],
   "source": [
    "df.info()"
   ]
  },
  {
   "cell_type": "code",
   "execution_count": 18,
   "metadata": {},
   "outputs": [
    {
     "data": {
      "text/html": [
       "<div>\n",
       "<style scoped>\n",
       "    .dataframe tbody tr th:only-of-type {\n",
       "        vertical-align: middle;\n",
       "    }\n",
       "\n",
       "    .dataframe tbody tr th {\n",
       "        vertical-align: top;\n",
       "    }\n",
       "\n",
       "    .dataframe thead th {\n",
       "        text-align: right;\n",
       "    }\n",
       "</style>\n",
       "<table border=\"1\" class=\"dataframe\">\n",
       "  <thead>\n",
       "    <tr style=\"text-align: right;\">\n",
       "      <th></th>\n",
       "      <th>id</th>\n",
       "      <th>id</th>\n",
       "    </tr>\n",
       "  </thead>\n",
       "  <tbody>\n",
       "    <tr>\n",
       "      <th>0</th>\n",
       "      <td>124</td>\n",
       "      <td>124</td>\n",
       "    </tr>\n",
       "    <tr>\n",
       "      <th>1</th>\n",
       "      <td>5676</td>\n",
       "      <td>5676</td>\n",
       "    </tr>\n",
       "    <tr>\n",
       "      <th>2</th>\n",
       "      <td>456</td>\n",
       "      <td>456</td>\n",
       "    </tr>\n",
       "  </tbody>\n",
       "</table>\n",
       "</div>"
      ],
      "text/plain": [
       "     id    id\n",
       "0   124   124\n",
       "1  5676  5676\n",
       "2   456   456"
      ]
     },
     "execution_count": 18,
     "metadata": {},
     "output_type": "execute_result"
    }
   ],
   "source": [
    "dup_df = pd.DataFrame([[124, 124], [5676, 5676], [456, 456]], columns=['id', 'id'])\n",
    "dup_df"
   ]
  },
  {
   "cell_type": "code",
   "execution_count": 19,
   "metadata": {},
   "outputs": [
    {
     "data": {
      "text/html": [
       "<div>\n",
       "<style scoped>\n",
       "    .dataframe tbody tr th:only-of-type {\n",
       "        vertical-align: middle;\n",
       "    }\n",
       "\n",
       "    .dataframe tbody tr th {\n",
       "        vertical-align: top;\n",
       "    }\n",
       "\n",
       "    .dataframe thead th {\n",
       "        text-align: right;\n",
       "    }\n",
       "</style>\n",
       "<table border=\"1\" class=\"dataframe\">\n",
       "  <thead>\n",
       "    <tr style=\"text-align: right;\">\n",
       "      <th></th>\n",
       "      <th>id</th>\n",
       "    </tr>\n",
       "  </thead>\n",
       "  <tbody>\n",
       "    <tr>\n",
       "      <th>0</th>\n",
       "      <td>124</td>\n",
       "    </tr>\n",
       "    <tr>\n",
       "      <th>1</th>\n",
       "      <td>5676</td>\n",
       "    </tr>\n",
       "    <tr>\n",
       "      <th>2</th>\n",
       "      <td>456</td>\n",
       "    </tr>\n",
       "  </tbody>\n",
       "</table>\n",
       "</div>"
      ],
      "text/plain": [
       "     id\n",
       "0   124\n",
       "1  5676\n",
       "2   456"
      ]
     },
     "execution_count": 19,
     "metadata": {},
     "output_type": "execute_result"
    }
   ],
   "source": [
    "ct.remove_duplicate_columns(dup_df)"
   ]
  },
  {
   "cell_type": "code",
   "execution_count": 24,
   "metadata": {},
   "outputs": [
    {
     "name": "stdout",
     "output_type": "stream",
     "text": [
      "<class 'pandas.core.frame.DataFrame'>\n",
      "RangeIndex: 891 entries, 0 to 890\n",
      "Data columns (total 12 columns):\n",
      " #   Column       Non-Null Count  Dtype  \n",
      "---  ------       --------------  -----  \n",
      " 0   PassengerId  891 non-null    int64  \n",
      " 1   Survived     891 non-null    int64  \n",
      " 2   Pclass       891 non-null    object \n",
      " 3   Name         891 non-null    object \n",
      " 4   Sex          891 non-null    object \n",
      " 5   Age          714 non-null    float64\n",
      " 6   SibSp        891 non-null    int64  \n",
      " 7   Parch        891 non-null    int64  \n",
      " 8   Ticket       891 non-null    object \n",
      " 9   Fare         891 non-null    float64\n",
      " 10  Cabin        204 non-null    object \n",
      " 11  Embarked     889 non-null    object \n",
      "dtypes: float64(2), int64(4), object(6)\n",
      "memory usage: 358.5 KB\n"
     ]
    }
   ],
   "source": [
    "df.info(memory_usage='deep')"
   ]
  },
  {
   "cell_type": "code",
   "execution_count": 26,
   "metadata": {},
   "outputs": [],
   "source": [
    "compressed_df = ct.compress_df(df)"
   ]
  },
  {
   "cell_type": "code",
   "execution_count": 27,
   "metadata": {},
   "outputs": [
    {
     "name": "stdout",
     "output_type": "stream",
     "text": [
      "<class 'pandas.core.frame.DataFrame'>\n",
      "RangeIndex: 891 entries, 0 to 890\n",
      "Data columns (total 12 columns):\n",
      " #   Column       Non-Null Count  Dtype   \n",
      "---  ------       --------------  -----   \n",
      " 0   PassengerId  891 non-null    uint16  \n",
      " 1   Survived     891 non-null    uint8   \n",
      " 2   Pclass       891 non-null    category\n",
      " 3   Name         891 non-null    object  \n",
      " 4   Sex          891 non-null    category\n",
      " 5   Age          714 non-null    float32 \n",
      " 6   SibSp        891 non-null    uint8   \n",
      " 7   Parch        891 non-null    uint8   \n",
      " 8   Ticket       891 non-null    object  \n",
      " 9   Fare         891 non-null    float32 \n",
      " 10  Cabin        204 non-null    category\n",
      " 11  Embarked     889 non-null    category\n",
      "dtypes: category(4), float32(2), object(2), uint16(1), uint8(3)\n",
      "memory usage: 158.7 KB\n"
     ]
    }
   ],
   "source": [
    "compressed_df.info(memory_usage='deep')"
   ]
  },
  {
   "cell_type": "code",
   "execution_count": 28,
   "metadata": {},
   "outputs": [],
   "source": [
    "tm = dt.TrainModel()"
   ]
  },
  {
   "cell_type": "code",
   "execution_count": 30,
   "metadata": {},
   "outputs": [],
   "source": [
    "train_df = compressed_df[['Survived', 'Pclass', 'Sex', 'Age', 'SibSp',\n",
    "       'Parch', 'Fare', 'Embarked']]"
   ]
  },
  {
   "cell_type": "code",
   "execution_count": 32,
   "metadata": {},
   "outputs": [],
   "source": [
    "dummies_df = pd.get_dummies(train_df)"
   ]
  },
  {
   "cell_type": "code",
   "execution_count": 44,
   "metadata": {},
   "outputs": [
    {
     "data": {
      "text/html": [
       "<div>\n",
       "<style scoped>\n",
       "    .dataframe tbody tr th:only-of-type {\n",
       "        vertical-align: middle;\n",
       "    }\n",
       "\n",
       "    .dataframe tbody tr th {\n",
       "        vertical-align: top;\n",
       "    }\n",
       "\n",
       "    .dataframe thead th {\n",
       "        text-align: right;\n",
       "    }\n",
       "</style>\n",
       "<table border=\"1\" class=\"dataframe\">\n",
       "  <thead>\n",
       "    <tr style=\"text-align: right;\">\n",
       "      <th></th>\n",
       "      <th>Survived</th>\n",
       "      <th>Age</th>\n",
       "      <th>SibSp</th>\n",
       "      <th>Parch</th>\n",
       "      <th>Fare</th>\n",
       "      <th>Pclass_1</th>\n",
       "      <th>Pclass_2</th>\n",
       "      <th>Pclass_3</th>\n",
       "      <th>Sex_female</th>\n",
       "      <th>Sex_male</th>\n",
       "      <th>Embarked_C</th>\n",
       "      <th>Embarked_Q</th>\n",
       "      <th>Embarked_S</th>\n",
       "    </tr>\n",
       "  </thead>\n",
       "  <tbody>\n",
       "    <tr>\n",
       "      <th>0</th>\n",
       "      <td>0</td>\n",
       "      <td>22.0</td>\n",
       "      <td>1</td>\n",
       "      <td>0</td>\n",
       "      <td>7.250000</td>\n",
       "      <td>0</td>\n",
       "      <td>0</td>\n",
       "      <td>1</td>\n",
       "      <td>0</td>\n",
       "      <td>1</td>\n",
       "      <td>0</td>\n",
       "      <td>0</td>\n",
       "      <td>1</td>\n",
       "    </tr>\n",
       "    <tr>\n",
       "      <th>1</th>\n",
       "      <td>1</td>\n",
       "      <td>38.0</td>\n",
       "      <td>1</td>\n",
       "      <td>0</td>\n",
       "      <td>71.283302</td>\n",
       "      <td>1</td>\n",
       "      <td>0</td>\n",
       "      <td>0</td>\n",
       "      <td>1</td>\n",
       "      <td>0</td>\n",
       "      <td>1</td>\n",
       "      <td>0</td>\n",
       "      <td>0</td>\n",
       "    </tr>\n",
       "    <tr>\n",
       "      <th>2</th>\n",
       "      <td>1</td>\n",
       "      <td>26.0</td>\n",
       "      <td>0</td>\n",
       "      <td>0</td>\n",
       "      <td>7.925000</td>\n",
       "      <td>0</td>\n",
       "      <td>0</td>\n",
       "      <td>1</td>\n",
       "      <td>1</td>\n",
       "      <td>0</td>\n",
       "      <td>0</td>\n",
       "      <td>0</td>\n",
       "      <td>1</td>\n",
       "    </tr>\n",
       "    <tr>\n",
       "      <th>3</th>\n",
       "      <td>1</td>\n",
       "      <td>35.0</td>\n",
       "      <td>1</td>\n",
       "      <td>0</td>\n",
       "      <td>53.099998</td>\n",
       "      <td>1</td>\n",
       "      <td>0</td>\n",
       "      <td>0</td>\n",
       "      <td>1</td>\n",
       "      <td>0</td>\n",
       "      <td>0</td>\n",
       "      <td>0</td>\n",
       "      <td>1</td>\n",
       "    </tr>\n",
       "    <tr>\n",
       "      <th>4</th>\n",
       "      <td>0</td>\n",
       "      <td>35.0</td>\n",
       "      <td>0</td>\n",
       "      <td>0</td>\n",
       "      <td>8.050000</td>\n",
       "      <td>0</td>\n",
       "      <td>0</td>\n",
       "      <td>1</td>\n",
       "      <td>0</td>\n",
       "      <td>1</td>\n",
       "      <td>0</td>\n",
       "      <td>0</td>\n",
       "      <td>1</td>\n",
       "    </tr>\n",
       "    <tr>\n",
       "      <th>...</th>\n",
       "      <td>...</td>\n",
       "      <td>...</td>\n",
       "      <td>...</td>\n",
       "      <td>...</td>\n",
       "      <td>...</td>\n",
       "      <td>...</td>\n",
       "      <td>...</td>\n",
       "      <td>...</td>\n",
       "      <td>...</td>\n",
       "      <td>...</td>\n",
       "      <td>...</td>\n",
       "      <td>...</td>\n",
       "      <td>...</td>\n",
       "    </tr>\n",
       "    <tr>\n",
       "      <th>886</th>\n",
       "      <td>0</td>\n",
       "      <td>27.0</td>\n",
       "      <td>0</td>\n",
       "      <td>0</td>\n",
       "      <td>13.000000</td>\n",
       "      <td>0</td>\n",
       "      <td>1</td>\n",
       "      <td>0</td>\n",
       "      <td>0</td>\n",
       "      <td>1</td>\n",
       "      <td>0</td>\n",
       "      <td>0</td>\n",
       "      <td>1</td>\n",
       "    </tr>\n",
       "    <tr>\n",
       "      <th>887</th>\n",
       "      <td>1</td>\n",
       "      <td>19.0</td>\n",
       "      <td>0</td>\n",
       "      <td>0</td>\n",
       "      <td>30.000000</td>\n",
       "      <td>1</td>\n",
       "      <td>0</td>\n",
       "      <td>0</td>\n",
       "      <td>1</td>\n",
       "      <td>0</td>\n",
       "      <td>0</td>\n",
       "      <td>0</td>\n",
       "      <td>1</td>\n",
       "    </tr>\n",
       "    <tr>\n",
       "      <th>888</th>\n",
       "      <td>0</td>\n",
       "      <td>NaN</td>\n",
       "      <td>1</td>\n",
       "      <td>2</td>\n",
       "      <td>23.450001</td>\n",
       "      <td>0</td>\n",
       "      <td>0</td>\n",
       "      <td>1</td>\n",
       "      <td>1</td>\n",
       "      <td>0</td>\n",
       "      <td>0</td>\n",
       "      <td>0</td>\n",
       "      <td>1</td>\n",
       "    </tr>\n",
       "    <tr>\n",
       "      <th>889</th>\n",
       "      <td>1</td>\n",
       "      <td>26.0</td>\n",
       "      <td>0</td>\n",
       "      <td>0</td>\n",
       "      <td>30.000000</td>\n",
       "      <td>1</td>\n",
       "      <td>0</td>\n",
       "      <td>0</td>\n",
       "      <td>0</td>\n",
       "      <td>1</td>\n",
       "      <td>1</td>\n",
       "      <td>0</td>\n",
       "      <td>0</td>\n",
       "    </tr>\n",
       "    <tr>\n",
       "      <th>890</th>\n",
       "      <td>0</td>\n",
       "      <td>32.0</td>\n",
       "      <td>0</td>\n",
       "      <td>0</td>\n",
       "      <td>7.750000</td>\n",
       "      <td>0</td>\n",
       "      <td>0</td>\n",
       "      <td>1</td>\n",
       "      <td>0</td>\n",
       "      <td>1</td>\n",
       "      <td>0</td>\n",
       "      <td>1</td>\n",
       "      <td>0</td>\n",
       "    </tr>\n",
       "  </tbody>\n",
       "</table>\n",
       "<p>891 rows × 13 columns</p>\n",
       "</div>"
      ],
      "text/plain": [
       "     Survived   Age  SibSp  Parch       Fare  Pclass_1  Pclass_2  Pclass_3  \\\n",
       "0           0  22.0      1      0   7.250000         0         0         1   \n",
       "1           1  38.0      1      0  71.283302         1         0         0   \n",
       "2           1  26.0      0      0   7.925000         0         0         1   \n",
       "3           1  35.0      1      0  53.099998         1         0         0   \n",
       "4           0  35.0      0      0   8.050000         0         0         1   \n",
       "..        ...   ...    ...    ...        ...       ...       ...       ...   \n",
       "886         0  27.0      0      0  13.000000         0         1         0   \n",
       "887         1  19.0      0      0  30.000000         1         0         0   \n",
       "888         0   NaN      1      2  23.450001         0         0         1   \n",
       "889         1  26.0      0      0  30.000000         1         0         0   \n",
       "890         0  32.0      0      0   7.750000         0         0         1   \n",
       "\n",
       "     Sex_female  Sex_male  Embarked_C  Embarked_Q  Embarked_S  \n",
       "0             0         1           0           0           1  \n",
       "1             1         0           1           0           0  \n",
       "2             1         0           0           0           1  \n",
       "3             1         0           0           0           1  \n",
       "4             0         1           0           0           1  \n",
       "..          ...       ...         ...         ...         ...  \n",
       "886           0         1           0           0           1  \n",
       "887           1         0           0           0           1  \n",
       "888           1         0           0           0           1  \n",
       "889           0         1           1           0           0  \n",
       "890           0         1           0           1           0  \n",
       "\n",
       "[891 rows x 13 columns]"
      ]
     },
     "execution_count": 44,
     "metadata": {},
     "output_type": "execute_result"
    }
   ],
   "source": [
    "dummies_df"
   ]
  },
  {
   "cell_type": "code",
   "execution_count": 85,
   "metadata": {},
   "outputs": [],
   "source": [
    "filled_na_df = dummies_df.fillna(0).sample(100)"
   ]
  },
  {
   "cell_type": "code",
   "execution_count": 86,
   "metadata": {},
   "outputs": [],
   "source": [
    "y = filled_na_df['Survived']\n",
    "X = filled_na_df.drop('Survived', axis=1)"
   ]
  },
  {
   "cell_type": "code",
   "execution_count": 87,
   "metadata": {},
   "outputs": [],
   "source": [
    "X_train, X_test, y_train, y_test = train_test_split(X, y)"
   ]
  },
  {
   "cell_type": "code",
   "execution_count": 88,
   "metadata": {},
   "outputs": [
    {
     "name": "stdout",
     "output_type": "stream",
     "text": [
      "Fitting 3 folds for each of 114 candidates, totalling 342 fits\n"
     ]
    },
    {
     "name": "stderr",
     "output_type": "stream",
     "text": [
      "[Parallel(n_jobs=-2)]: Using backend LokyBackend with 7 concurrent workers.\n",
      "[Parallel(n_jobs=-2)]: Done  27 tasks      | elapsed:    2.0s\n",
      "[Parallel(n_jobs=-2)]: Done 254 tasks      | elapsed:    5.1s\n",
      "[Parallel(n_jobs=-2)]: Done 329 out of 342 | elapsed:  4.4min remaining:   10.4s\n"
     ]
    },
    {
     "name": "stdout",
     "output_type": "stream",
     "text": [
      "\n",
      "\n",
      "\n",
      "*** Best Parameters Using ['precision', 'recall', 'roc_auc'] | Tie Breaker: precision | 2020-09-30 12:09 ***\n",
      "Params: {'model': DecisionTreeClassifier(max_depth=5, min_samples_split=0.25), 'model__max_depth': 5, 'model__min_samples_split': 1.0}\n",
      "Mean Recall: 0.8333\n",
      "Mean Precision: 0.7400\n",
      "Mean ROC AUC: 0.8167\n",
      "\n",
      "\n",
      "Params: {'model': DecisionTreeClassifier(max_depth=5, min_samples_split=0.25), 'model__max_depth': 10, 'model__min_samples_split': 1.0}\n",
      "Mean Recall: 0.8333\n",
      "Mean Precision: 0.7400\n",
      "Mean ROC AUC: 0.8167\n",
      "\n",
      "\n",
      "Params: {'model': DecisionTreeClassifier(max_depth=5, min_samples_split=0.25), 'model__max_depth': 15, 'model__min_samples_split': 1.0}\n",
      "Mean Recall: 0.8333\n",
      "Mean Precision: 0.7400\n",
      "Mean ROC AUC: 0.8167\n",
      "\n",
      "\n",
      "Params: {'model': AdaBoostClassifier(), 'model__learning_rate': 0.001, 'model__n_estimators': 5}\n",
      "Mean Recall: 0.8333\n",
      "Mean Precision: 0.7400\n",
      "Mean ROC AUC: 0.8167\n",
      "\n",
      "\n",
      "Params: {'model': AdaBoostClassifier(), 'model__learning_rate': 0.001, 'model__n_estimators': 10}\n",
      "Mean Recall: 0.8333\n",
      "Mean Precision: 0.7400\n",
      "Mean ROC AUC: 0.8167\n",
      "\n",
      "\n"
     ]
    },
    {
     "name": "stderr",
     "output_type": "stream",
     "text": [
      "[Parallel(n_jobs=-2)]: Done 342 out of 342 | elapsed:  8.9min finished\n"
     ]
    },
    {
     "data": {
      "text/plain": [
       "{'model': DecisionTreeClassifier(max_depth=5, min_samples_split=0.25),\n",
       " 'model__max_depth': 5,\n",
       " 'model__min_samples_split': 0.25}"
      ]
     },
     "execution_count": 88,
     "metadata": {},
     "output_type": "execute_result"
    }
   ],
   "source": [
    "pipeline = Pipeline([(\"model\", LogisticRegression()),])\n",
    "\n",
    "tm.model_testing(X_train, y_train, pipeline, \"classification\", \"precision\", save_to_csv=False)"
   ]
  },
  {
   "cell_type": "code",
   "execution_count": 90,
   "metadata": {},
   "outputs": [],
   "source": [
    "mr = dt.ModelResults()"
   ]
  },
  {
   "cell_type": "code",
   "execution_count": 93,
   "metadata": {},
   "outputs": [
    {
     "data": {
      "text/plain": [
       "DecisionTreeClassifier(max_depth=5, min_samples_split=1.0)"
      ]
     },
     "execution_count": 93,
     "metadata": {},
     "output_type": "execute_result"
    }
   ],
   "source": [
    "model = DecisionTreeClassifier(max_depth=5, min_samples_split=1.0)\n",
    "model.fit(X_train, y_train)"
   ]
  },
  {
   "cell_type": "code",
   "execution_count": 95,
   "metadata": {
    "scrolled": true
   },
   "outputs": [
    {
     "name": "stderr",
     "output_type": "stream",
     "text": [
      "100%|██████████| 75/75 [00:45<00:00,  1.66it/s]\n"
     ]
    },
    {
     "data": {
      "image/png": "[encoded data removed]",
      "text/plain": [
       "<Figure size 576x453.6 with 1 Axes>"
      ]
     },
     "metadata": {
      "needs_background": "light"
     },
     "output_type": "display_data"
    }
   ],
   "source": [
    "mr.coefficients_graph(X_train, model, 'classification', tree_based=False)"
   ]
  },
  {
   "cell_type": "code",
   "execution_count": 60,
   "metadata": {},
   "outputs": [
    {
     "name": "stderr",
     "output_type": "stream",
     "text": [
      "Your stop_words may be inconsistent with your preprocessing. Tokenizing the stop words generated tokens ['-pron-', 'make'] not in stop_words.\n"
     ]
    },
    {
     "name": "stdout",
     "output_type": "stream",
     "text": [
      "Topics created with top words & example texts:\n",
      "   topic_num  num_in_category  \\\n",
      "0          0              406   \n",
      "1          1              192   \n",
      "2          2              120   \n",
      "3          3               68   \n",
      "4          4              105   \n",
      "\n",
      "                               top_words_and_phrases  \\\n",
      "0  [miss, mary, miss mary, annie, helen, anna, el...   \n",
      "1  [mrs, mrs william, mary, elizabeth, joseph, sa...   \n",
      "2  [william, mr william, mrs william, henry, jame...   \n",
      "3  [john, mr john, henry, mrs john, george, jr, d...   \n",
      "4  [master, george, rice, panula, leonard, henry,...   \n",
      "\n",
      "                                            example0  \\\n",
      "0                             Heikkinen, Miss. Laina   \n",
      "1                            Braund, Mr. Owen Harris   \n",
      "2                           Allen, Mr. William Henry   \n",
      "3  Cumings, Mrs. John Bradley (Florence Briggs Th...   \n",
      "4                     Palsson, Master. Gosta Leonard   \n",
      "\n",
      "                                       example1  \\\n",
      "0               Sandstrom, Miss. Marguerite Rut   \n",
      "1  Futrelle, Mrs. Jacques Heath (Lily May Peel)   \n",
      "2                              Moran, Mr. James   \n",
      "3                Holverson, Mr. Alexander Oskar   \n",
      "4                   Andersson, Mr. Anders Johan   \n",
      "\n",
      "                                            example2  \\\n",
      "0                           Bonnell, Miss. Elizabeth   \n",
      "1                            McCarthy, Mr. Timothy J   \n",
      "2                     Saundercock, Mr. William Henry   \n",
      "3  Turpin, Mrs. William John Robert (Dorothy Ann ...   \n",
      "4                               Rice, Master. Eugene   \n",
      "\n",
      "                                            example3  \\\n",
      "0               Vestrom, Miss. Hulda Amanda Adolfina   \n",
      "1  Johnson, Mrs. Oscar W (Elisabeth Vilhelmina Berg)   \n",
      "2                       Sloper, Mr. William Thompson   \n",
      "3                        Harris, Mr. Henry Birkhardt   \n",
      "4                         Panula, Master. Juha Niilo   \n",
      "\n",
      "                                         example4  \\\n",
      "0                           Beesley, Mr. Lawrence   \n",
      "1             Nasser, Mrs. Nicholas (Adele Achem)   \n",
      "2  Spencer, Mrs. William Augustus (Marie Eugenie)   \n",
      "3                            Hood, Mr. Ambrose Jr   \n",
      "4                    Nosworthy, Mr. Richard Cater   \n",
      "\n",
      "                             example5                       example6  \\\n",
      "0         McGowan, Miss. Anna \"Annie\"  Palsson, Miss. Torborg Danira   \n",
      "1    Hewlett, Mrs. (Mary D Kingcome)    Williams, Mr. Charles Eugene   \n",
      "2            Cann, Mr. Ernest Charles       Rogers, Mr. William John   \n",
      "3             Moen, Mr. Sigurd Hansen        Dean, Mr. Bertram Frank   \n",
      "4  Goodwin, Master. William Frederick          Skoog, Master. Harald   \n",
      "\n",
      "                                            example7  \\\n",
      "0                            Emir, Mr. Farred Chehab   \n",
      "1  Vander Planke, Mrs. Julius (Emelia Maria Vande...   \n",
      "2                           Crease, Mr. Ernest James   \n",
      "3               Doling, Mrs. John T (Ada Julia Bone)   \n",
      "4                           Moubarek, Master. Gerios   \n",
      "\n",
      "                        example8                       example9  \n",
      "0  O'Dwyer, Miss. Ellen \"Nellie\"            Todoroff, Mr. Lalio  \n",
      "1        Masselmani, Mrs. Fatima           Fynney, Mr. Joseph J  \n",
      "2         Ford, Mr. William Neal  Slocovski, Mr. Selman Francis  \n",
      "3         Barton, Mr. David John       Cribb, Mr. John Hatfield  \n",
      "4  Caldwell, Master. Alden Gates      Goldschmidt, Mr. George B  \n"
     ]
    },
    {
     "data": {
      "text/html": [
       "<div>\n",
       "<style scoped>\n",
       "    .dataframe tbody tr th:only-of-type {\n",
       "        vertical-align: middle;\n",
       "    }\n",
       "\n",
       "    .dataframe tbody tr th {\n",
       "        vertical-align: top;\n",
       "    }\n",
       "\n",
       "    .dataframe thead th {\n",
       "        text-align: right;\n",
       "    }\n",
       "</style>\n",
       "<table border=\"1\" class=\"dataframe\">\n",
       "  <thead>\n",
       "    <tr style=\"text-align: right;\">\n",
       "      <th></th>\n",
       "      <th>topic_num</th>\n",
       "      <th>num_in_category</th>\n",
       "      <th>top_words_and_phrases</th>\n",
       "      <th>example0</th>\n",
       "      <th>example1</th>\n",
       "      <th>example2</th>\n",
       "      <th>example3</th>\n",
       "      <th>example4</th>\n",
       "      <th>example5</th>\n",
       "      <th>example6</th>\n",
       "      <th>example7</th>\n",
       "      <th>example8</th>\n",
       "      <th>example9</th>\n",
       "    </tr>\n",
       "  </thead>\n",
       "  <tbody>\n",
       "    <tr>\n",
       "      <th>0</th>\n",
       "      <td>0</td>\n",
       "      <td>406</td>\n",
       "      <td>[miss, mary, miss mary, annie, helen, anna, el...</td>\n",
       "      <td>Heikkinen, Miss. Laina</td>\n",
       "      <td>Sandstrom, Miss. Marguerite Rut</td>\n",
       "      <td>Bonnell, Miss. Elizabeth</td>\n",
       "      <td>Vestrom, Miss. Hulda Amanda Adolfina</td>\n",
       "      <td>Beesley, Mr. Lawrence</td>\n",
       "      <td>McGowan, Miss. Anna \"Annie\"</td>\n",
       "      <td>Palsson, Miss. Torborg Danira</td>\n",
       "      <td>Emir, Mr. Farred Chehab</td>\n",
       "      <td>O'Dwyer, Miss. Ellen \"Nellie\"</td>\n",
       "      <td>Todoroff, Mr. Lalio</td>\n",
       "    </tr>\n",
       "    <tr>\n",
       "      <th>1</th>\n",
       "      <td>1</td>\n",
       "      <td>192</td>\n",
       "      <td>[mrs, mrs william, mary, elizabeth, joseph, sa...</td>\n",
       "      <td>Braund, Mr. Owen Harris</td>\n",
       "      <td>Futrelle, Mrs. Jacques Heath (Lily May Peel)</td>\n",
       "      <td>McCarthy, Mr. Timothy J</td>\n",
       "      <td>Johnson, Mrs. Oscar W (Elisabeth Vilhelmina Berg)</td>\n",
       "      <td>Nasser, Mrs. Nicholas (Adele Achem)</td>\n",
       "      <td>Hewlett, Mrs. (Mary D Kingcome)</td>\n",
       "      <td>Williams, Mr. Charles Eugene</td>\n",
       "      <td>Vander Planke, Mrs. Julius (Emelia Maria Vande...</td>\n",
       "      <td>Masselmani, Mrs. Fatima</td>\n",
       "      <td>Fynney, Mr. Joseph J</td>\n",
       "    </tr>\n",
       "    <tr>\n",
       "      <th>2</th>\n",
       "      <td>2</td>\n",
       "      <td>120</td>\n",
       "      <td>[william, mr william, mrs william, henry, jame...</td>\n",
       "      <td>Allen, Mr. William Henry</td>\n",
       "      <td>Moran, Mr. James</td>\n",
       "      <td>Saundercock, Mr. William Henry</td>\n",
       "      <td>Sloper, Mr. William Thompson</td>\n",
       "      <td>Spencer, Mrs. William Augustus (Marie Eugenie)</td>\n",
       "      <td>Cann, Mr. Ernest Charles</td>\n",
       "      <td>Rogers, Mr. William John</td>\n",
       "      <td>Crease, Mr. Ernest James</td>\n",
       "      <td>Ford, Mr. William Neal</td>\n",
       "      <td>Slocovski, Mr. Selman Francis</td>\n",
       "    </tr>\n",
       "    <tr>\n",
       "      <th>3</th>\n",
       "      <td>3</td>\n",
       "      <td>68</td>\n",
       "      <td>[john, mr john, henry, mrs john, george, jr, d...</td>\n",
       "      <td>Cumings, Mrs. John Bradley (Florence Briggs Th...</td>\n",
       "      <td>Holverson, Mr. Alexander Oskar</td>\n",
       "      <td>Turpin, Mrs. William John Robert (Dorothy Ann ...</td>\n",
       "      <td>Harris, Mr. Henry Birkhardt</td>\n",
       "      <td>Hood, Mr. Ambrose Jr</td>\n",
       "      <td>Moen, Mr. Sigurd Hansen</td>\n",
       "      <td>Dean, Mr. Bertram Frank</td>\n",
       "      <td>Doling, Mrs. John T (Ada Julia Bone)</td>\n",
       "      <td>Barton, Mr. David John</td>\n",
       "      <td>Cribb, Mr. John Hatfield</td>\n",
       "    </tr>\n",
       "    <tr>\n",
       "      <th>4</th>\n",
       "      <td>4</td>\n",
       "      <td>105</td>\n",
       "      <td>[master, george, rice, panula, leonard, henry,...</td>\n",
       "      <td>Palsson, Master. Gosta Leonard</td>\n",
       "      <td>Andersson, Mr. Anders Johan</td>\n",
       "      <td>Rice, Master. Eugene</td>\n",
       "      <td>Panula, Master. Juha Niilo</td>\n",
       "      <td>Nosworthy, Mr. Richard Cater</td>\n",
       "      <td>Goodwin, Master. William Frederick</td>\n",
       "      <td>Skoog, Master. Harald</td>\n",
       "      <td>Moubarek, Master. Gerios</td>\n",
       "      <td>Caldwell, Master. Alden Gates</td>\n",
       "      <td>Goldschmidt, Mr. George B</td>\n",
       "    </tr>\n",
       "  </tbody>\n",
       "</table>\n",
       "</div>"
      ],
      "text/plain": [
       "   topic_num  num_in_category  \\\n",
       "0          0              406   \n",
       "1          1              192   \n",
       "2          2              120   \n",
       "3          3               68   \n",
       "4          4              105   \n",
       "\n",
       "                               top_words_and_phrases  \\\n",
       "0  [miss, mary, miss mary, annie, helen, anna, el...   \n",
       "1  [mrs, mrs william, mary, elizabeth, joseph, sa...   \n",
       "2  [william, mr william, mrs william, henry, jame...   \n",
       "3  [john, mr john, henry, mrs john, george, jr, d...   \n",
       "4  [master, george, rice, panula, leonard, henry,...   \n",
       "\n",
       "                                            example0  \\\n",
       "0                             Heikkinen, Miss. Laina   \n",
       "1                            Braund, Mr. Owen Harris   \n",
       "2                           Allen, Mr. William Henry   \n",
       "3  Cumings, Mrs. John Bradley (Florence Briggs Th...   \n",
       "4                     Palsson, Master. Gosta Leonard   \n",
       "\n",
       "                                       example1  \\\n",
       "0               Sandstrom, Miss. Marguerite Rut   \n",
       "1  Futrelle, Mrs. Jacques Heath (Lily May Peel)   \n",
       "2                              Moran, Mr. James   \n",
       "3                Holverson, Mr. Alexander Oskar   \n",
       "4                   Andersson, Mr. Anders Johan   \n",
       "\n",
       "                                            example2  \\\n",
       "0                           Bonnell, Miss. Elizabeth   \n",
       "1                            McCarthy, Mr. Timothy J   \n",
       "2                     Saundercock, Mr. William Henry   \n",
       "3  Turpin, Mrs. William John Robert (Dorothy Ann ...   \n",
       "4                               Rice, Master. Eugene   \n",
       "\n",
       "                                            example3  \\\n",
       "0               Vestrom, Miss. Hulda Amanda Adolfina   \n",
       "1  Johnson, Mrs. Oscar W (Elisabeth Vilhelmina Berg)   \n",
       "2                       Sloper, Mr. William Thompson   \n",
       "3                        Harris, Mr. Henry Birkhardt   \n",
       "4                         Panula, Master. Juha Niilo   \n",
       "\n",
       "                                         example4  \\\n",
       "0                           Beesley, Mr. Lawrence   \n",
       "1             Nasser, Mrs. Nicholas (Adele Achem)   \n",
       "2  Spencer, Mrs. William Augustus (Marie Eugenie)   \n",
       "3                            Hood, Mr. Ambrose Jr   \n",
       "4                    Nosworthy, Mr. Richard Cater   \n",
       "\n",
       "                             example5                       example6  \\\n",
       "0         McGowan, Miss. Anna \"Annie\"  Palsson, Miss. Torborg Danira   \n",
       "1    Hewlett, Mrs. (Mary D Kingcome)    Williams, Mr. Charles Eugene   \n",
       "2            Cann, Mr. Ernest Charles       Rogers, Mr. William John   \n",
       "3             Moen, Mr. Sigurd Hansen        Dean, Mr. Bertram Frank   \n",
       "4  Goodwin, Master. William Frederick          Skoog, Master. Harald   \n",
       "\n",
       "                                            example7  \\\n",
       "0                            Emir, Mr. Farred Chehab   \n",
       "1  Vander Planke, Mrs. Julius (Emelia Maria Vande...   \n",
       "2                           Crease, Mr. Ernest James   \n",
       "3               Doling, Mrs. John T (Ada Julia Bone)   \n",
       "4                           Moubarek, Master. Gerios   \n",
       "\n",
       "                        example8                       example9  \n",
       "0  O'Dwyer, Miss. Ellen \"Nellie\"            Todoroff, Mr. Lalio  \n",
       "1        Masselmani, Mrs. Fatima           Fynney, Mr. Joseph J  \n",
       "2         Ford, Mr. William Neal  Slocovski, Mr. Selman Francis  \n",
       "3         Barton, Mr. David John       Cribb, Mr. John Hatfield  \n",
       "4  Caldwell, Master. Alden Gates      Goldschmidt, Mr. George B  "
      ]
     },
     "execution_count": 60,
     "metadata": {},
     "output_type": "execute_result"
    }
   ],
   "source": [
    "topic_words_df, combined_df = mr.most_similar_texts(df, 10, 'Name', 5)\n",
    "topic_words_df"
   ]
  },
  {
   "cell_type": "code",
   "execution_count": 61,
   "metadata": {},
   "outputs": [
    {
     "name": "stdout",
     "output_type": "stream",
     "text": [
      "Final Model Precision: 0.788235294117647\n",
      "Final Model Recall: 0.6979166666666666\n",
      "Final Model ROC AUC: 0.7780921916010498\n",
      "Predicted    0   1\n",
      "Actual            \n",
      "0          109  18\n",
      "1           29  67\n",
      "Predicted      0      1\n",
      "Actual                 \n",
      "0          0.489  0.081\n",
      "1          0.130  0.300\n"
     ]
    },
    {
     "name": "stderr",
     "output_type": "stream",
     "text": [
      "lbfgs failed to converge (status=1):\n",
      "STOP: TOTAL NO. of ITERATIONS REACHED LIMIT.\n",
      "\n",
      "Increase the number of iterations (max_iter) or scale the data as shown in:\n",
      "    https://scikit-learn.org/stable/modules/preprocessing.html\n",
      "Please also refer to the documentation for alternative solver options:\n",
      "    https://scikit-learn.org/stable/modules/linear_model.html#logistic-regression\n",
      "lbfgs failed to converge (status=1):\n",
      "STOP: TOTAL NO. of ITERATIONS REACHED LIMIT.\n",
      "\n",
      "Increase the number of iterations (max_iter) or scale the data as shown in:\n",
      "    https://scikit-learn.org/stable/modules/preprocessing.html\n",
      "Please also refer to the documentation for alternative solver options:\n",
      "    https://scikit-learn.org/stable/modules/linear_model.html#logistic-regression\n"
     ]
    },
    {
     "data": {
      "text/plain": [
       "(Pipeline(steps=[('model', LogisticRegression())]),\n",
       " array([0, 1, 0, 0, 0, 0, 0, 1, 1, 0, 1, 0, 0, 1, 1, 0, 1, 1, 1, 0, 0, 1,\n",
       "        0, 1, 0, 0, 0, 0, 0, 0, 1, 0, 1, 0, 1, 0, 1, 1, 0, 0, 1, 0, 1, 0,\n",
       "        0, 1, 0, 1, 0, 1, 0, 1, 0, 0, 1, 0, 0, 0, 1, 0, 0, 0, 0, 1, 1, 1,\n",
       "        0, 0, 0, 0, 0, 1, 1, 1, 0, 0, 0, 1, 1, 0, 1, 1, 0, 0, 0, 0, 0, 0,\n",
       "        1, 1, 1, 1, 0, 0, 0, 1, 1, 0, 1, 0, 0, 0, 0, 0, 1, 1, 1, 0, 1, 0,\n",
       "        0, 0, 1, 0, 0, 0, 0, 0, 0, 0, 0, 0, 0, 0, 0, 1, 0, 0, 0, 0, 1, 0,\n",
       "        0, 1, 0, 1, 1, 0, 0, 0, 1, 1, 0, 0, 0, 0, 1, 0, 0, 0, 0, 0, 1, 0,\n",
       "        0, 0, 1, 1, 0, 0, 1, 0, 0, 0, 0, 1, 0, 1, 0, 0, 1, 1, 0, 0, 0, 0,\n",
       "        1, 0, 1, 0, 1, 0, 1, 0, 1, 1, 1, 1, 0, 1, 0, 1, 0, 0, 0, 0, 0, 1,\n",
       "        1, 0, 0, 0, 1, 0, 0, 1, 0, 0, 0, 1, 0, 0, 1, 1, 0, 1, 1, 0, 1, 1,\n",
       "        1, 0, 1], dtype=uint8))"
      ]
     },
     "execution_count": 61,
     "metadata": {},
     "output_type": "execute_result"
    }
   ],
   "source": [
    "pipeline = Pipeline([(\"model\", DecisionTreeClassifier(max_depth=5, min_samples_split=1.0))])\n",
    "\n",
    "pipeline.fit(X_train, y_train)\n",
    "y_predicted = pipeline.predict(X_test)\n",
    "\n",
    "mr = dt.ModelResults()\n",
    "mr.score_final_model(\n",
    "    \"classification\", X_train, y_train, X_test, y_test, pipeline\n",
    ")"
   ]
  },
  {
   "cell_type": "code",
   "execution_count": 62,
   "metadata": {},
   "outputs": [],
   "source": [
    "example1 = \"\"\"I am some text with a link in it: https://www.google.com Sincerely Kristie\"\"\""
   ]
  },
  {
   "cell_type": "code",
   "execution_count": 63,
   "metadata": {},
   "outputs": [
    {
     "data": {
      "text/plain": [
       "'I am some text with a link in it:  Sincerely Kristie'"
      ]
     },
     "execution_count": 63,
     "metadata": {},
     "output_type": "execute_result"
    }
   ],
   "source": [
    "ct.remove_links(example1)"
   ]
  },
  {
   "cell_type": "code",
   "execution_count": 64,
   "metadata": {},
   "outputs": [],
   "source": [
    "example2 = \"\"\"I enjoy reading and meditating. Yesterday I made a quiche.\"\"\""
   ]
  },
  {
   "cell_type": "code",
   "execution_count": 65,
   "metadata": {},
   "outputs": [
    {
     "data": {
      "text/plain": [
       "['-PRON-',\n",
       " 'enjoy',\n",
       " 'read',\n",
       " 'and',\n",
       " 'meditating',\n",
       " '.',\n",
       " 'yesterday',\n",
       " '-PRON-',\n",
       " 'make',\n",
       " 'a',\n",
       " 'quiche',\n",
       " '.']"
      ]
     },
     "execution_count": 65,
     "metadata": {},
     "output_type": "execute_result"
    }
   ],
   "source": [
    "ct.lematize(example2)"
   ]
  },
  {
   "cell_type": "code",
   "execution_count": 66,
   "metadata": {},
   "outputs": [],
   "source": [
    "example3 = \"\"\"\n",
    "Dear so & so, \n",
    "\n",
    "I have a question for you. \n",
    "\n",
    "Sincerely, Kristie\"\"\""
   ]
  },
  {
   "cell_type": "code",
   "execution_count": 67,
   "metadata": {},
   "outputs": [
    {
     "data": {
      "text/plain": [
       "'\\n\\n\\nI have a question for you. \\n\\n'"
      ]
     },
     "execution_count": 67,
     "metadata": {},
     "output_type": "execute_result"
    }
   ],
   "source": [
    "ct.remove_email_greetings_signatures(example3)"
   ]
  },
  {
   "cell_type": "code",
   "execution_count": 68,
   "metadata": {},
   "outputs": [],
   "source": [
    "df = ct.clean_column_names(df)"
   ]
  },
  {
   "cell_type": "code",
   "execution_count": 69,
   "metadata": {},
   "outputs": [],
   "source": [
    "fe = dt.FrontEnd()"
   ]
  },
  {
   "cell_type": "code",
   "execution_count": 72,
   "metadata": {},
   "outputs": [],
   "source": [
    "dropdown_html = fe.dropdown_from_dataframe('Count of Siblings', df, 'sibsp')"
   ]
  },
  {
   "cell_type": "code",
   "execution_count": 75,
   "metadata": {},
   "outputs": [
    {
     "data": {
      "text/html": [
       "<select id=\"Count of Siblings\" width: 400px;><option value=\"---\">---</option><option value=\"1\">1</option><option value=\"0\">0</option><option value=\"3\">3</option><option value=\"4\">4</option><option value=\"2\">2</option><option value=\"5\">5</option><option value=\"8\">8</option></select>"
      ],
      "text/plain": [
       "<IPython.core.display.HTML object>"
      ]
     },
     "metadata": {},
     "output_type": "display_data"
    }
   ],
   "source": [
    "display(HTML(dropdown_html))"
   ]
  },
  {
   "cell_type": "code",
   "execution_count": null,
   "metadata": {},
   "outputs": [],
   "source": []
  }
 ],
 "metadata": {
  "kernelspec": {
   "display_name": "Python 3.7.5 64-bit ('datto': venv)",
   "language": "python",
   "name": "python37564bitdattovenv71f2e9e66a26485897bb3863650e4ab1"
  },
  "language_info": {
   "codemirror_mode": {
    "name": "ipython",
    "version": 3
   },
   "file_extension": ".py",
   "mimetype": "text/x-python",
   "name": "python",
   "nbconvert_exporter": "python",
   "pygments_lexer": "ipython3",
   "version": "3.7.5"
  }
 },
 "nbformat": 4,
 "nbformat_minor": 4
}
